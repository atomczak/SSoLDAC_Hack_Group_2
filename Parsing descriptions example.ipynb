{
 "cells": [
  {
   "cell_type": "code",
   "execution_count": 1,
   "id": "dccbfbd6",
   "metadata": {},
   "outputs": [],
   "source": [
    "from typing import Union, List, Any, Optional, Dict\n",
    "\n",
    "import os\n",
    "import re\n",
    "import time\n",
    "import json\n",
    "import glob\n",
    "import pickle\n",
    "import random\n",
    "import urllib\n",
    "import requests\n",
    "\n",
    "from bs4 import BeautifulSoup\n",
    "from tqdm import tqdm\n",
    "from pathlib import Path\n",
    "from textblob import TextBlob\n",
    "from collections import Counter\n",
    "\n",
    "from transformers import BertTokenizer, BertModel\n",
    "\n",
    "from utils import cleaning_utils"
   ]
  },
  {
   "cell_type": "markdown",
   "id": "0abda54c",
   "metadata": {},
   "source": [
    "#### Example IFC class and description\n",
    "* source: https://search-test.bsdd.buildingsmart.org/uri/buildingsmart/ifc-4.3/class/IfcWindow\n",
    "\n",
    "\n",
    "We'll use: \n",
    "* TextBlob (NLTK's implementation of punkttokenizer under the hood) to split into sentences.\n",
    "* SPaR.txt to predict which objects occur, some cleaning on top of this. \n"
   ]
  },
  {
   "cell_type": "code",
   "execution_count": 2,
   "id": "18f9a3c7",
   "metadata": {},
   "outputs": [],
   "source": [
    "label = \"IfcWindow\""
   ]
  },
  {
   "cell_type": "code",
   "execution_count": 3,
   "id": "03da2db1",
   "metadata": {},
   "outputs": [],
   "source": [
    "description = \"\"\"\n",
    "The window is a building element that is predominately used to provide natural light and fresh air. \n",
    "It includes vertical opening but also horizontal opening such as skylights or light domes. \n",
    "It includes constructions with swinging, pivoting, sliding, or revolving panels and fixed panels. \n",
    "A window consists of a lining and one or several panels. \n",
    "A window can:be a \"free standing\" window, contained in an IfcSpatialElement such as an IfcBuildingStorey. \n",
    "fill an opening, typically in a wall. \n",
    "The window will then have a FillsVoids attribute which uses the IfcRelFillsElement relationship to relate the IfcWindow with the IfcOpeningElement; \n",
    "be part of an element assembly, typically an IfcCurtainWall. \n",
    "The window will then have a Decomposes attribute which uses the the IfcRelAggregates relationship to relate the window with the assembly of elements;\n",
    "There are two main representations for window occurrences:\n",
    "IfcWindow entities that have a 3D rectangle 'Profile' shape representation defined. \n",
    "This profile can then be used to parametrically generate the geometry of a window. \n",
    "If not provided, the profile of the IfcOpeningElement can be used if the window fills an opening. \n",
    "The parameters are specified on the relating IfcWindowType that references IfcWindowLiningProperties and \n",
    "IfcWindowPanelProperties for each panel in the window; \n",
    "IfcWindow entities that are not parametrically generated and have only 'Brep', or 'SurfaceModel' geometry.\n",
    "In addition, an IfcWindow may commonly include a 'FootPrint' representation defining the 2D shape of the window and its swing.\n",
    "the window width and height the window opening direction (by the positive y-axis of the ObjectPlacement)\n",
    "The IfcWindowType specifies parameters which are common to all of its occurrences of IfcWindow:\n",
    "the partitioning type (single panel, double panel, tripel panel, more panels) the operation type \n",
    "(swing, tilt and turn, pivot revolve, fixed casement, etc.) \n",
    "the window panel hinge side (by using two different styles for right and left opening windows) \n",
    "the particular attributes for the lining by the IfcWindowLiningProperties the particular attributes \n",
    "for the panels by the  IfcWindowPanelPropertiesREFERENCE Definition according to ISO 6707-1 Construction \n",
    "for closing a vertical or near vertical opening in a wall or pitched roof that will admit light and \n",
    "may admit fresh air. NOTE The entity IfcWindowStandardCase has been deleted. Use an IfcWindow with \n",
    "a 'Profile' representation instead. The IfcWindow should also have an IfcWindowType with \n",
    "ParameterTakesPrecedence set to 'TRUE'. IFC4 CHANGE The attributes PredefinedType and OperationType are\n",
    "added, the applicable type object has been changed to IfcWindowType. HISTORY New entity in IFC1.0.\n",
    "\"\"\""
   ]
  },
  {
   "cell_type": "code",
   "execution_count": 4,
   "id": "c0e96637",
   "metadata": {},
   "outputs": [],
   "source": [
    "label = \"abrasion\"\n",
    "description = \"\"\"wearing or grinding away of material by friction; usually caused by sand, gravel, or stones, carried by wind or water\"\"\""
   ]
  },
  {
   "cell_type": "code",
   "execution_count": null,
   "id": "1678397b",
   "metadata": {},
   "outputs": [],
   "source": []
  },
  {
   "cell_type": "code",
   "execution_count": 5,
   "id": "820b9eba",
   "metadata": {},
   "outputs": [],
   "source": [
    "# download SPaR.txt if required\n",
    "from pathlib import Path\n",
    "spartxt_path = Path(\"SPaRtxt/\")\n",
    "if not spartxt_path.exists():\n",
    "    !git clone https://github.com/rubenkruiper/SPaR.txt.git SPaRtxt"
   ]
  },
  {
   "cell_type": "code",
   "execution_count": 6,
   "id": "960072a9",
   "metadata": {},
   "outputs": [],
   "source": [
    "# # kind of convoluted way to import spar.txt as a module from the parent directory\n",
    "# import imp\n",
    "# with open(spartxt_path.joinpath('spar_predictor.py'), 'rb') as fp:\n",
    "#     spar_predictor = imp.load_module(\n",
    "#         'spar_predictor', fp, 'SPaRtxt.spar_predictor.py',\n",
    "#         ('.py', 'rb', imp.PY_SOURCE)\n",
    "#     )"
   ]
  },
  {
   "cell_type": "code",
   "execution_count": null,
   "id": "d4b03036",
   "metadata": {},
   "outputs": [],
   "source": []
  },
  {
   "cell_type": "code",
   "execution_count": 7,
   "id": "05e6e50a",
   "metadata": {},
   "outputs": [],
   "source": [
    "# import sys \n",
    "# sys.path.insert(1, 'SPaRtxt/')"
   ]
  },
  {
   "cell_type": "code",
   "execution_count": 8,
   "id": "1e992877",
   "metadata": {},
   "outputs": [],
   "source": [
    "from SPaRtxt import *"
   ]
  },
  {
   "cell_type": "code",
   "execution_count": 9,
   "id": "9418cfe2",
   "metadata": {},
   "outputs": [],
   "source": [
    "from utils import spar_utils"
   ]
  },
  {
   "cell_type": "code",
   "execution_count": null,
   "id": "9fb9bc84",
   "metadata": {},
   "outputs": [],
   "source": []
  },
  {
   "cell_type": "code",
   "execution_count": null,
   "id": "c5a916d2",
   "metadata": {},
   "outputs": [],
   "source": []
  },
  {
   "cell_type": "code",
   "execution_count": 10,
   "id": "93aa5392",
   "metadata": {},
   "outputs": [
    {
     "name": "stderr",
     "output_type": "stream",
     "text": [
      "Some weights of the model checkpoint at bert-base-cased were not used when initializing BertModel: ['cls.predictions.transform.LayerNorm.weight', 'cls.seq_relationship.weight', 'cls.predictions.transform.dense.weight', 'cls.seq_relationship.bias', 'cls.predictions.bias', 'cls.predictions.decoder.weight', 'cls.predictions.transform.LayerNorm.bias', 'cls.predictions.transform.dense.bias']\n",
      "- This IS expected if you are initializing BertModel from the checkpoint of a model trained on another task or with another architecture (e.g. initializing a BertForSequenceClassification model from a BertForPreTraining model).\n",
      "- This IS NOT expected if you are initializing BertModel from the checkpoint of a model that you expect to be exactly identical (initializing a BertForSequenceClassification model from a BertForSequenceClassification model).\n"
     ]
    }
   ],
   "source": [
    "# TRAIN/LOAD\n",
    "# - trains a model if needed, otherwise load from archive; \n",
    "# - best F1 on dev/validation in the paper is 80,96 trained on a GPU, CPU will be a bit lower ~77.x I think\n",
    "te = spar_utils.TermExtractor(max_num_cpu_threads=1)"
   ]
  },
  {
   "cell_type": "code",
   "execution_count": 11,
   "id": "9457024b",
   "metadata": {},
   "outputs": [
    {
     "data": {
      "text/plain": [
       "['wearing or grinding away of material by friction',\n",
       " 'usually caused by sand, gravel, or stones, carried by wind or water']"
      ]
     },
     "execution_count": 11,
     "metadata": {},
     "output_type": "execute_result"
    }
   ],
   "source": [
    "# use existing split into sentences functionality (uses textblob)\n",
    "sentences = te.split_into_sentences(description)\n",
    "# first 3 sents\n",
    "sentences[:3]"
   ]
  },
  {
   "cell_type": "code",
   "execution_count": 12,
   "id": "bf45789c",
   "metadata": {},
   "outputs": [],
   "source": [
    "objects = te.process_sentences(sentences)"
   ]
  },
  {
   "cell_type": "code",
   "execution_count": 13,
   "id": "96cb3a04",
   "metadata": {},
   "outputs": [],
   "source": [
    "# # Show some random extracted objects\n",
    "# random.sample(objects, 2)"
   ]
  },
  {
   "cell_type": "code",
   "execution_count": 14,
   "id": "cf6bddb8",
   "metadata": {},
   "outputs": [],
   "source": [
    "# some basic cleaning  \n",
    "regex_filter = cleaning_utils.RegexFilter()\n",
    "def run_filters(to_be_cleaned):\n",
    "    # some basic cleaning steps\n",
    "    _, regex_cleaned  = regex_filter.run_filter(to_be_cleaned) # _ would be the list of terms removed by our regex filters\n",
    "    basic_cleaned = cleaning_utils.custom_cleaning_rules(regex_cleaned)\n",
    "    determiners_removed = [cleaning_utils.remove_determiners(t) for t in basic_cleaned]\n",
    "    cleaned_terms = [t for t in determiners_removed if t]\n",
    "    cleaned_counter = Counter(cleaned_terms)\n",
    "    \n",
    "    # Could compare how often the objects occur in all extracted descriptions\n",
    "    cleaned_terms = [t for t in cleaned_terms if cleaned_counter[t] >= 1]\n",
    "    cleaned_counter = Counter({t: c for t, c in cleaned_counter.items() if c >= 1})\n",
    "    return cleaned_terms, cleaned_counter"
   ]
  },
  {
   "cell_type": "code",
   "execution_count": 15,
   "id": "60d13dec",
   "metadata": {},
   "outputs": [
    {
     "data": {
      "text/plain": [
       "[('material', 1),\n",
       " ('friction', 1),\n",
       " ('sand', 1),\n",
       " ('gravel', 1),\n",
       " ('stones', 1),\n",
       " ('wind', 1),\n",
       " ('water', 1)]"
      ]
     },
     "execution_count": 15,
     "metadata": {},
     "output_type": "execute_result"
    }
   ],
   "source": [
    "_, obj_cntr = run_filters(objects)\n",
    "obj_cntr.most_common(10)"
   ]
  },
  {
   "cell_type": "markdown",
   "id": "787f5936",
   "metadata": {},
   "source": [
    "### Search for object"
   ]
  },
  {
   "cell_type": "code",
   "execution_count": 16,
   "id": "8c53b8a9",
   "metadata": {},
   "outputs": [],
   "source": [
    "url_prefix = \"https://test.bsdd.buildingsmart.org/api/ClassificationSearchOpen/v1?SearchText=\""
   ]
  },
  {
   "cell_type": "code",
   "execution_count": 17,
   "id": "f5304925",
   "metadata": {},
   "outputs": [],
   "source": [
    "query = \"\""
   ]
  },
  {
   "cell_type": "code",
   "execution_count": 18,
   "id": "ffc1b2be",
   "metadata": {},
   "outputs": [],
   "source": [
    "try:\n",
    "    response = requests.get(url_prefix + urllib.parse.quote(query)).json()\n",
    "except: # todo: catch more elegantly\n",
    "    print(\"Search terms doesn't exist\")\n",
    "    "
   ]
  },
  {
   "cell_type": "code",
   "execution_count": 19,
   "id": "4320f705",
   "metadata": {},
   "outputs": [
    {
     "data": {
      "text/plain": [
       "{'type': 'https://tools.ietf.org/html/rfc7231#section-6.5.1',\n",
       " 'title': 'One or more validation errors occurred.',\n",
       " 'status': 400,\n",
       " 'traceId': '00-49dcd7edd8de7b5209c56833749c05d5-1904ad7fd9f95d7a-00',\n",
       " 'errors': {'SearchText': ['The SearchText field is required.']}}"
      ]
     },
     "execution_count": 19,
     "metadata": {},
     "output_type": "execute_result"
    }
   ],
   "source": [
    "response"
   ]
  },
  {
   "cell_type": "code",
   "execution_count": 20,
   "id": "fc813f75",
   "metadata": {},
   "outputs": [],
   "source": [
    "def check_if_string_exists_as_bsdd_label(\n",
    "    query: str,\n",
    "    url_prefix: str = \"https://test.bsdd.buildingsmart.org/api/ClassificationSearchOpen/v1?SearchText=\"\n",
    "):\n",
    "    try:\n",
    "        response = requests.get(url_prefix + urllib.parse.quote(query)).json()\n",
    "        return response\n",
    "    except:\n",
    "        # no search results\n",
    "        return None\n",
    "    "
   ]
  },
  {
   "cell_type": "code",
   "execution_count": 21,
   "id": "55e9fdf4",
   "metadata": {},
   "outputs": [],
   "source": [
    "def parse_bsdd_api_response(json_response: Dict[str,str]):    \n",
    "    search_results = []\n",
    "    for result in json_response['classifications']:\n",
    "        domain_namespace = result['domainNamespaceUri']\n",
    "\n",
    "#         # LIMIT RESULTS TO IFC 4.3 for now \n",
    "#         if not str(domain_namespace).endswith(\"ifc-4.3\"):\n",
    "#             continue\n",
    "\n",
    "        domain_name = result['domainName']\n",
    "        name = result['name']\n",
    "        reference_code = result['referenceCode'] if 'referenceCode' in result else None\n",
    "        namespace_uri = result['namespaceUri'] if 'namespaceUri' in result else None\n",
    "        description = result['description'] if 'description' in result else None\n",
    "        parent_name = result['parentClassificationName'] if 'parentClassificationName' in result else None\n",
    "        related_ifc_entity_names = result['relatedIfcEntityNames'] if 'relatedIfcEntityNames' in result else None\n",
    "        \n",
    "        results_of_interest = {\"name\": name, \"description\": description, \"related\": related_ifc_entity_names}\n",
    "        search_results.append(results_of_interest)\n",
    "    return search_results"
   ]
  },
  {
   "cell_type": "code",
   "execution_count": null,
   "id": "3481b9ac",
   "metadata": {},
   "outputs": [],
   "source": []
  },
  {
   "cell_type": "code",
   "execution_count": 33,
   "id": "5e890907",
   "metadata": {},
   "outputs": [],
   "source": [
    "# label = \"IfcWindow\"\n",
    "# objects as extracted from the definition for \"IfcWindow\"\n",
    "def suggest(label: str, obj_cntr: Counter):\n",
    "    useless_objs = [\"entity\", \"HISTORY\"]\n",
    "    top_k = 5\n",
    "\n",
    "    suggested_rel_dict = {label: {}}\n",
    "    terms_with_overlap_in_description_objects = {}\n",
    "    for obj, count in tqdm(obj_cntr.most_common()):\n",
    "\n",
    "        if obj in useless_objs or obj in label:\n",
    "            continue\n",
    "\n",
    "        # 1) search for bsdd nodes with the object span as the query\n",
    "        bsdd_response = check_if_string_exists_as_bsdd_label(obj)\n",
    "        if bsdd_response:\n",
    "            bsdd_results = parse_bsdd_api_response(bsdd_response)\n",
    "        else:\n",
    "            continue\n",
    "\n",
    "        if top_k:\n",
    "            # only look at top_k results from bsdd search\n",
    "            bsdd_results = bsdd_results[:top_k]\n",
    "\n",
    "        # 2) Compare if the retrieved, potentially related nodes, contain the same object in their description\n",
    "        \n",
    "        for result_dict in bsdd_results:\n",
    "            name = result_dict[\"name\"] if \"name\" in result_dict else None\n",
    "            bsdd_description = result_dict[\"description\"] if \"description\" in result_dict else None\n",
    "            if not bsdd_description:\n",
    "                continue \n",
    "\n",
    "            if obj in bsdd_description:\n",
    "                if name not in terms_with_overlap_in_description_objects:\n",
    "                    terms_with_overlap_in_description_objects[name] = [obj]\n",
    "                else:\n",
    "                    terms_with_overlap_in_description_objects[name].append(obj)\n",
    "                    \n",
    "\n",
    "    # 3) Collect suggestions of related terms\n",
    "    for potentially_related, matching_objects in terms_with_overlap_in_description_objects.items():\n",
    "#         if label == potentially_related or label.startswith(potentially_related) or potentially_related.startswith(label):\n",
    "#             # we assume that if the original label occurs in the search results for a span, they are too close\n",
    "# #             print(f\"Skipping self: {label} found when searching for {obj}\")\n",
    "#             continue\n",
    "    \n",
    "        if len(matching_objects) < 2:\n",
    "            continue\n",
    "\n",
    "        if potentially_related not in suggested_rel_dict[label]:\n",
    "            suggested_rel_dict[label][potentially_related] = matching_objects\n",
    "        else:\n",
    "            suggested_rel_dict[label][potentially_related] += matching_objects\n",
    "    return suggested_rel_dict"
   ]
  },
  {
   "cell_type": "code",
   "execution_count": 23,
   "id": "3aefb856",
   "metadata": {},
   "outputs": [],
   "source": [
    "def spartxt_ner(long_description: str):\n",
    "    # use existing split into sentences functionality (uses textblob)\n",
    "    sentences = te.split_into_sentences(long_description)\n",
    "    objects = te.process_sentences(sentences)\n",
    "    _, object_counter = run_filters(objects)\n",
    "    return object_counter"
   ]
  },
  {
   "cell_type": "code",
   "execution_count": 24,
   "id": "14cd0866",
   "metadata": {},
   "outputs": [],
   "source": [
    "label = \"abrasion\"\n",
    "description = \"\"\"\n",
    "Wearing or grinding away of material by friction; usually caused by sand, gravel, or stones, carried by wind or water.\n",
    "1) Loss of section or coating of a culvert by the mechanical action of water conveying suspended bed load of sand, gravel, and cobble-size particles at high velocities with appreciable turbulence. 2) Removal of stream bank material due to entrained sediment, ice, or debris rubbing against the bank.\n",
    "Loss of section or coating of a culvert by the mechanical action of water conveying suspended bed load of sand, gravel, and cobble-size particles at high velocities with appreciable turbulence.\n",
    "\"\"\""
   ]
  },
  {
   "cell_type": "code",
   "execution_count": 25,
   "id": "3e5ad543",
   "metadata": {
    "scrolled": false
   },
   "outputs": [
    {
     "name": "stdout",
     "output_type": "stream",
     "text": [
      "Term: abrasion \n",
      "Definition: \n",
      "Wearing or grinding away of material by friction; usually caused by sand, gravel, or stones, carried by wind or water.\n",
      "1) Loss of section or coating of a culvert by the mechanical action of water conveying suspended bed load of sand, gravel, and cobble-size particles at high velocities with appreciable turbulence. 2) Removal of stream bank material due to entrained sediment, ice, or debris rubbing against the bank.\n",
      "Loss of section or coating of a culvert by the mechanical action of water conveying suspended bed load of sand, gravel, and cobble-size particles at high velocities with appreciable turbulence.\n",
      "\n",
      "[('sand', 3), ('gravel', 3), ('water', 2), ('Loss section', 2), ('coating', 2), ('culvert', 2), ('mechanical action', 2), ('suspended bed load', 2), ('cobble size', 2), ('particles', 2)]\n"
     ]
    },
    {
     "name": "stderr",
     "output_type": "stream",
     "text": [
      "100%|███████████████████████████████████████████████████████████████████████████████████████████████████████████████████████████████████████████████████████████████████████| 23/23 [00:09<00:00,  2.36it/s]\n"
     ]
    },
    {
     "data": {
      "text/plain": [
       "{'abrasion': {'IfcCourse': ['sand'],\n",
       "  'IfcImpactProtectionDevice.BUMPER': ['sand'],\n",
       "  'IfcTrackElement.VEHICLESTOP': ['sand'],\n",
       "  'IfcMarineFacility.BARRIERBEACH': ['sand'],\n",
       "  'IfcWall.PARTITIONING': ['sand'],\n",
       "  'IfcCoil.WATERCOOLINGCOIL': ['water'],\n",
       "  'IfcCoil.WATERHEATINGCOIL': ['water'],\n",
       "  'IfcSurfaceFeature.TREATMENT': ['coating'],\n",
       "  'IfcInterceptor.CYCLONIC': ['particles'],\n",
       "  'IfcLamp.HIGHPRESSUREMERCURY': ['high'],\n",
       "  'IfcLamp.HIGHPRESSURESODIUM': ['high'],\n",
       "  'IfcMarinePart.HIGHWATERLINE': ['high'],\n",
       "  'IfcProtectiveDevice.VARISTOR': ['high'],\n",
       "  'IfcRoadPart.SHOULDER': ['high'],\n",
       "  'IfcMaterial': ['material'],\n",
       "  'IfcMaterialDefinition': ['material'],\n",
       "  'IfcConstructionMaterialResource': ['material'],\n",
       "  'IfcBeam.LINTEL': ['material'],\n",
       "  'IfcMarineFacility.JETTY': ['material'],\n",
       "  'IfcCourse.BALLASTBED': ['stones'],\n",
       "  'IfcWindow': ['wind'],\n",
       "  'IfcWindow.LIGHTDOME': ['wind'],\n",
       "  'IfcWindow.NOTDEFINED': ['wind'],\n",
       "  'IfcEvaporativeCooler.DIRECTEVAPORATIVEAIRWASHER': ['entrained'],\n",
       "  'IfcEvaporativeCooler, rectevaporativeairwasher': ['entrained']}}"
      ]
     },
     "execution_count": 25,
     "metadata": {},
     "output_type": "execute_result"
    }
   ],
   "source": [
    "print(f\"Term: {label} \\nDefinition: {description}\")\n",
    "object_counter = spartxt_ner(description)\n",
    "print(object_counter.most_common(10))\n",
    "suggest(label, object_counter)"
   ]
  },
  {
   "cell_type": "code",
   "execution_count": 30,
   "id": "d6d8da96",
   "metadata": {},
   "outputs": [],
   "source": [
    "label = \"IfcWindow\"\n",
    "description = \"\"\"\n",
    "The window is a building element that is predominately used to provide natural light and fresh air.  It includes vertical opening but also horizontal opening such as skylights or light domes.  It includes constructions with swinging, pivoting, sliding, or revolving panels and fixed panels.  A window consists of a lining and one or several panels.  A window can:be a \"free standing\" window, contained in an IfcSpatialElement such as an IfcBuildingStorey.  fill an opening, typically in a wall.  The window will then have a FillsVoids attribute which uses the IfcRelFillsElement relationship to relate the IfcWindow with the IfcOpeningElement;  be part of an element assembly, typically an IfcCurtainWall.  The window will then have a Decomposes attribute which uses the the IfcRelAggregates relationship to relate the window with the assembly of elements; There are two main representations for window occurrences: IfcWindow entities that have a 3D rectangle 'Profile' shape representation defined.  This profile can then be used to parametrically generate the geometry of a window.  If not provided, the profile of the IfcOpeningElement can be used if the window fills an opening.  The parameters are specified on the relating IfcWindowType that references IfcWindowLiningProperties and  IfcWindowPanelProperties for each panel in the window;  IfcWindow entities that are not parametrically generated and have only 'Brep', or 'SurfaceModel' geometry. In addition, an IfcWindow may commonly include a 'FootPrint' representation defining the 2D shape of the window and its swing. the window width and height the window opening direction (by the positive y-axis of the ObjectPlacement) The IfcWindowType specifies parameters which are common to all of its occurrences of IfcWindow: the partitioning type (single panel, double panel, tripel panel, more panels) the operation type  (swing, tilt and turn, pivot revolve, fixed casement, etc.)  the window panel hinge side (by using two different styles for right and left opening windows)  the particular attributes for the lining by the IfcWindowLiningProperties the particular attributes  for the panels by the  IfcWindowPanelPropertiesREFERENCE Definition according to ISO 6707-1 Construction  for closing a vertical or near vertical opening in a wall or pitched roof that will admit light and  may admit fresh air. NOTE The entity IfcWindowStandardCase has been deleted. Use an IfcWindow with  a 'Profile' representation instead. The IfcWindow should also have an IfcWindowType with  ParameterTakesPrecedence set to 'TRUE'. IFC4 CHANGE The attributes PredefinedType and OperationType are added, the applicable type object has been changed to IfcWindowType. HISTORY New entity in IFC1.0.\n",
    "\"\"\""
   ]
  },
  {
   "cell_type": "code",
   "execution_count": 34,
   "id": "b131b561",
   "metadata": {
    "scrolled": false
   },
   "outputs": [
    {
     "name": "stdout",
     "output_type": "stream",
     "text": [
      "Term: IfcWindow \n",
      "Definition: \n",
      "The window is a building element that is predominately used to provide natural light and fresh air.  It includes vertical opening but also horizontal opening such as skylights or light domes.  It includes constructions with swinging, pivoting, sliding, or revolving panels and fixed panels.  A window consists of a lining and one or several panels.  A window can:be a \"free standing\" window, contained in an IfcSpatialElement such as an IfcBuildingStorey.  fill an opening, typically in a wall.  The window will then have a FillsVoids attribute which uses the IfcRelFillsElement relationship to relate the IfcWindow with the IfcOpeningElement;  be part of an element assembly, typically an IfcCurtainWall.  The window will then have a Decomposes attribute which uses the the IfcRelAggregates relationship to relate the window with the assembly of elements; There are two main representations for window occurrences: IfcWindow entities that have a 3D rectangle 'Profile' shape representation defined.  This profile can then be used to parametrically generate the geometry of a window.  If not provided, the profile of the IfcOpeningElement can be used if the window fills an opening.  The parameters are specified on the relating IfcWindowType that references IfcWindowLiningProperties and  IfcWindowPanelProperties for each panel in the window;  IfcWindow entities that are not parametrically generated and have only 'Brep', or 'SurfaceModel' geometry. In addition, an IfcWindow may commonly include a 'FootPrint' representation defining the 2D shape of the window and its swing. the window width and height the window opening direction (by the positive y-axis of the ObjectPlacement) The IfcWindowType specifies parameters which are common to all of its occurrences of IfcWindow: the partitioning type (single panel, double panel, tripel panel, more panels) the operation type  (swing, tilt and turn, pivot revolve, fixed casement, etc.)  the window panel hinge side (by using two different styles for right and left opening windows)  the particular attributes for the lining by the IfcWindowLiningProperties the particular attributes  for the panels by the  IfcWindowPanelPropertiesREFERENCE Definition according to ISO 6707-1 Construction  for closing a vertical or near vertical opening in a wall or pitched roof that will admit light and  may admit fresh air. NOTE The entity IfcWindowStandardCase has been deleted. Use an IfcWindow with  a 'Profile' representation instead. The IfcWindow should also have an IfcWindowType with  ParameterTakesPrecedence set to 'TRUE'. IFC4 CHANGE The attributes PredefinedType and OperationType are added, the applicable type object has been changed to IfcWindowType. HISTORY New entity in IFC1.0.\n",
      "\n"
     ]
    },
    {
     "name": "stderr",
     "output_type": "stream",
     "text": [
      "100%|███████████████████████████████████████████████████████████████████████████████████████████████████████████████████████████████████████████████████████████████████████| 87/87 [00:25<00:00,  3.36it/s]\n"
     ]
    }
   ],
   "source": [
    "print(f\"Term: {label} \\nDefinition: {description}\")\n",
    "object_counter = spartxt_ner(description)\n",
    "suggested_rel_dict = suggest(label, object_counter)"
   ]
  },
  {
   "cell_type": "markdown",
   "id": "3efdbd76",
   "metadata": {},
   "source": [
    "**Alternative heuristics**:\n",
    "* KNN graph / k nearest neighbours based on embeddings\n",
    "* consider combining label with objects in defintion for a representantion?"
   ]
  },
  {
   "cell_type": "code",
   "execution_count": 35,
   "id": "095cbdda",
   "metadata": {},
   "outputs": [
    {
     "name": "stdout",
     "output_type": "stream",
     "text": [
      "{'IfcWindow': {'IfcArbitraryClosedProfileDef': ['profile', 'Profile'],\n",
      "               'IfcArbitraryProfileDefWithVoids': ['profile', 'Profile'],\n",
      "               'IfcBeam': ['parametric', 'Brep'],\n",
      "               'IfcColumn': ['parametric', 'Brep'],\n",
      "               'IfcCurtainWall': ['representation',\n",
      "                                  'IfcCurtainWall',\n",
      "                                  'IfcRelAggregates relationship',\n",
      "                                  'representations'],\n",
      "               'IfcDoor': ['IfcSpatialElement',\n",
      "                           'IfcBuildingStorey',\n",
      "                           'FillsVoids attribute',\n",
      "                           'IfcRelFillsElement relationship',\n",
      "                           'IfcCurtainWall',\n",
      "                           'Decomposes attribute',\n",
      "                           'rectangle',\n",
      "                           'FootPrint',\n",
      "                           '2D shape',\n",
      "                           'swing',\n",
      "                           'ObjectPlacement',\n",
      "                           'left',\n",
      "                           'ParameterTakesPrecedence',\n",
      "                           'TRUE'],\n",
      "               'IfcMember': ['parametric', 'Brep'],\n",
      "               'IfcMember.MULLION': ['panels', 'panel'],\n",
      "               'IfcOpeningElement': ['opening', 'IfcOpeningElement'],\n",
      "               'IfcPlate': ['IfcCurtainWall', 'parametric', 'Brep'],\n",
      "               'IfcProfileDef': ['profile', 'Profile'],\n",
      "               'IfcSlab': ['geometry', 'parametric', 'Brep'],\n",
      "               'IfcWindow': ['window',\n",
      "                             'fresh air',\n",
      "                             'vertical opening',\n",
      "                             'IfcWindow entities',\n",
      "                             'IfcWindowType',\n",
      "                             'natural light',\n",
      "                             'horizontal opening',\n",
      "                             'skylights',\n",
      "                             'light domes',\n",
      "                             'fixed panels',\n",
      "                             'IfcBuildingStorey',\n",
      "                             'FillsVoids attribute',\n",
      "                             'IfcRelFillsElement relationship',\n",
      "                             'Decomposes attribute',\n",
      "                             'window occurrences',\n",
      "                             'rectangle',\n",
      "                             'relating IfcWindowType',\n",
      "                             'IfcWindowLiningProperties',\n",
      "                             'IfcWindowPanelProperties',\n",
      "                             'FootPrint',\n",
      "                             '2D shape',\n",
      "                             'swing',\n",
      "                             'window opening direction',\n",
      "                             'partitioning type',\n",
      "                             'single panel',\n",
      "                             'tilt',\n",
      "                             'pivot revolve',\n",
      "                             'fixed casement',\n",
      "                             'opening windows',\n",
      "                             'pitched roof',\n",
      "                             'ParameterTakesPrecedence',\n",
      "                             'TRUE',\n",
      "                             'OperationType',\n",
      "                             'applicable type object']}}\n"
     ]
    }
   ],
   "source": [
    "import pprint\n",
    "pprint.pprint(suggested_rel_dict)"
   ]
  },
  {
   "cell_type": "code",
   "execution_count": null,
   "id": "2ad28488",
   "metadata": {},
   "outputs": [],
   "source": []
  },
  {
   "cell_type": "code",
   "execution_count": 36,
   "id": "174a1aa8",
   "metadata": {},
   "outputs": [],
   "source": [
    "import pandas as pd"
   ]
  },
  {
   "cell_type": "code",
   "execution_count": 46,
   "id": "44c82770",
   "metadata": {},
   "outputs": [],
   "source": [
    "to_be_parsed = pd.read_csv(\"bsdd_descriptions.csv\")"
   ]
  },
  {
   "cell_type": "code",
   "execution_count": 53,
   "id": "1a7ac301",
   "metadata": {},
   "outputs": [
    {
     "data": {
      "text/plain": [
       "0        Location track number or name as an abbreviation \n",
       "1        E.g. additional information related to install...\n",
       "2        Height of the post in millimeters if sign has ...\n",
       "3                       Installation direction of the sign\n",
       "4          The route number on which the object is located\n",
       "                               ...                        \n",
       "28163    Angir hvilket år vegobjektet ble etablert på s...\n",
       "28164             Angir hvilket år utstyret ble produsert.\n",
       "28165         Angir hvilken type energikilde som benyttes.\n",
       "28166             Angir hovedbruksområde for styreapparat.\n",
       "28167                             Angir type styreapparat.\n",
       "Name: description, Length: 28168, dtype: object"
      ]
     },
     "execution_count": 53,
     "metadata": {},
     "output_type": "execute_result"
    }
   ],
   "source": [
    "to_be_parsed.description"
   ]
  },
  {
   "cell_type": "code",
   "execution_count": 59,
   "id": "523d2730",
   "metadata": {},
   "outputs": [
    {
     "name": "stderr",
     "output_type": "stream",
     "text": [
      "100%|███████████████████████████████████████████████████████████████████████████████████████████████████████████████████████████████████████████████████████████████| 28168/28168 [1:04:21<00:00,  7.29it/s]\n"
     ]
    }
   ],
   "source": [
    "objects_found = []\n",
    "objects_and_counts = []\n",
    "for description in tqdm(to_be_parsed.description):\n",
    "    try:\n",
    "        object_counter = spartxt_ner(description)\n",
    "        objects_and_counts.append(str(object_counter))\n",
    "    \n",
    "        objects = [o for o, _ in object_counter.most_common()]\n",
    "        objects_found.append(objects)\n",
    "    except:\n",
    "        objects_and_counts.append(\"\")\n",
    "        objects_found.append(\"\")\n",
    "        \n"
   ]
  },
  {
   "cell_type": "code",
   "execution_count": 60,
   "id": "7c2dd4cd",
   "metadata": {},
   "outputs": [],
   "source": [
    "to_be_parsed['objects found'] = objects_found\n",
    "to_be_parsed['objects and counts'] = objects_and_counts"
   ]
  },
  {
   "cell_type": "code",
   "execution_count": 61,
   "id": "92dbdc6a",
   "metadata": {},
   "outputs": [],
   "source": [
    "to_be_parsed.to_csv(\"bsdd_parsed_descriptions.csv\")"
   ]
  },
  {
   "cell_type": "code",
   "execution_count": null,
   "id": "fe1e5ad7",
   "metadata": {},
   "outputs": [],
   "source": []
  }
 ],
 "metadata": {
  "kernelspec": {
   "display_name": "Python 3 (ipykernel)",
   "language": "python",
   "name": "python3"
  },
  "language_info": {
   "codemirror_mode": {
    "name": "ipython",
    "version": 3
   },
   "file_extension": ".py",
   "mimetype": "text/x-python",
   "name": "python",
   "nbconvert_exporter": "python",
   "pygments_lexer": "ipython3",
   "version": "3.9.16"
  }
 },
 "nbformat": 4,
 "nbformat_minor": 5
}
