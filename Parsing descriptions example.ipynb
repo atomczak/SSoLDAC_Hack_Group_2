{
 "cells": [
  {
   "cell_type": "code",
   "execution_count": 3,
   "id": "53237a69",
   "metadata": {},
   "outputs": [],
   "source": [
    "from typing import Union, List, Any, Optional, Dict\n",
    "\n",
    "import os\n",
    "import re\n",
    "import time\n",
    "import json\n",
    "import glob\n",
    "import pickle\n",
    "import random\n",
    "import urllib\n",
    "import requests\n",
    "\n",
    "from bs4 import BeautifulSoup\n",
    "from tqdm import tqdm\n",
    "from pathlib import Path\n",
    "from textblob import TextBlob\n",
    "\n",
    "from transformers import BertTokenizer, BertModel\n",
    "\n",
    "from utils import spar_utils\n",
    "from utils import cleaning_utils"
   ]
  },
  {
   "cell_type": "markdown",
   "id": "f1b390cb",
   "metadata": {},
   "source": [
    "#### Example IFC class and description\n",
    "* source: https://search-test.bsdd.buildingsmart.org/uri/buildingsmart/ifc-4.3/class/IfcWindow\n",
    "\n",
    "\n",
    "We'll use: \n",
    "* TextBlob (NLTK's implementation of punkttokenizer under the hood) to split into sentences.\n",
    "* SPaR.txt to predict which objects occur, some cleaning on top of this. \n"
   ]
  },
  {
   "cell_type": "code",
   "execution_count": 5,
   "id": "0c6f52f3",
   "metadata": {},
   "outputs": [],
   "source": [
    "label = \"IfcWindow\""
   ]
  },
  {
   "cell_type": "code",
   "execution_count": 6,
   "id": "00169520",
   "metadata": {},
   "outputs": [],
   "source": [
    "description = \"\"\"\n",
    "The window is a building element that is predominately used to provide natural light and fresh air. It includes vertical opening but also horizontal opening such as skylights or light domes. It includes constructions with swinging, pivoting, sliding, or revolving panels and fixed panels. A window consists of a lining and one or several panels. A window can:be a \"free standing\" window, contained in an IfcSpatialElement such as an IfcBuildingStorey. fill an opening, typically in a wall. The window will then have a FillsVoids attribute which uses the IfcRelFillsElement relationship to relate the IfcWindow with the IfcOpeningElement; be part of an element assembly, typically an IfcCurtainWall. The window will then have a Decomposes attribute which uses the the IfcRelAggregates relationship to relate the window with the assembly of elements;There are two main representations for window occurrences:IfcWindow entities that have a 3D rectangle 'Profile' shape representation defined. This profile can then be used to parametrically generate the geometry of a window. If not provided, the profile of the IfcOpeningElement can be used if the window fills an opening. The parameters are specified on the relating IfcWindowType that references IfcWindowLiningProperties and IfcWindowPanelProperties for each panel in the window; IfcWindow entities that are not parametrically generated and have only 'Brep', or 'SurfaceModel' geometry.In addition, an IfcWindow may commonly include a 'FootPrint' representation defining the 2D shape of the window and its swing.the window width and height the window opening direction (by the positive y-axis of the ObjectPlacement)The IfcWindowType specifies parameters which are common to all of its occurrences of IfcWindow:the partitioning type (single panel, double panel, tripel panel, more panels) the operation type (swing, tilt and turn, pivot revolve, fixed casement, etc.) the window panel hinge side (by using two different styles for right and left opening windows) the particular attributes for the lining by the IfcWindowLiningProperties the particular attributes for the panels by the  IfcWindowPanelPropertiesREFERENCE Definition according to ISO 6707-1 Construction for closing a vertical or near vertical opening in a wall or pitched roof that will admit light and may admit fresh air. NOTE The entity IfcWindowStandardCase has been deleted. Use an IfcWindow with a 'Profile' representation instead. The IfcWindow should also have an IfcWindowType with ParameterTakesPrecedence set to 'TRUE'. IFC4 CHANGE The attributes PredefinedType and OperationType are added, the applicable type object has been changed to IfcWindowType. HISTORY New entity in IFC1.0.\n",
    "\"\"\""
   ]
  },
  {
   "cell_type": "code",
   "execution_count": 7,
   "id": "3ba20206",
   "metadata": {},
   "outputs": [],
   "source": [
    "# download SPaR.txt if required\n",
    "from pathlib import Path\n",
    "spartxt_path = Path(\"SPaR.txt/\")\n",
    "if not spartxt_path.exists():\n",
    "    !git clone https://github.com/rubenkruiper/SPaR.txt.git"
   ]
  },
  {
   "cell_type": "code",
   "execution_count": 8,
   "id": "6e936547",
   "metadata": {},
   "outputs": [],
   "source": [
    "# kind of convoluted way to import spar.txt as a module from the parent directory\n",
    "import imp\n",
    "with open(spartxt_path.joinpath('spar_predictor.py'), 'rb') as fp:\n",
    "    spar_predictor = imp.load_module(\n",
    "        'spar_predictor', fp, 'SPaR.txt.spar_predictor.py',\n",
    "        ('.py', 'rb', imp.PY_SOURCE)\n",
    "    )"
   ]
  },
  {
   "cell_type": "code",
   "execution_count": 10,
   "id": "74f95f9d",
   "metadata": {},
   "outputs": [],
   "source": [
    "# TRAIN/LOAD\n",
    "# - trains a model if needed, otherwise load from archive; \n",
    "# - best F1 on dev/validation in the paper is 80,96 trained on a GPU, CPU will be a bit lower ~77.x I think\n",
    "te = spar_utils.TermExtractor(max_num_cpu_threads=1)"
   ]
  },
  {
   "cell_type": "code",
   "execution_count": 14,
   "id": "79d20b20",
   "metadata": {},
   "outputs": [
    {
     "data": {
      "text/plain": [
       "['The window is a building element that is predominately used to provide natural light and fresh air.',\n",
       " 'It includes vertical opening but also horizontal opening such as skylights or light domes.',\n",
       " 'It includes constructions with swinging, pivoting, sliding, or revolving panels and fixed panels.']"
      ]
     },
     "execution_count": 14,
     "metadata": {},
     "output_type": "execute_result"
    }
   ],
   "source": [
    "# use existing split into sentences functionality (uses textblob)\n",
    "sentences = te.split_into_sentences(description)\n",
    "# first 3 sents\n",
    "sentences[:3]"
   ]
  },
  {
   "cell_type": "code",
   "execution_count": 15,
   "id": "64404a3b",
   "metadata": {},
   "outputs": [],
   "source": [
    "objects = te.process_sentences(sentences)"
   ]
  },
  {
   "cell_type": "code",
   "execution_count": 16,
   "id": "eacae404",
   "metadata": {},
   "outputs": [
    {
     "data": {
      "text/plain": [
       "['The window',\n",
       " 'a building element',\n",
       " 'natural light',\n",
       " 'fresh air',\n",
       " 'vertical opening',\n",
       " 'horizontal opening',\n",
       " 'skylights',\n",
       " 'light domes',\n",
       " 'constructions',\n",
       " 'swinging',\n",
       " 'p',\n",
       " 'sliding',\n",
       " 'revolving',\n",
       " 'panels',\n",
       " 'fixed panels',\n",
       " 'A window',\n",
       " 'a lining',\n",
       " 'one',\n",
       " 'panels',\n",
       " 'A window',\n",
       " 'a',\n",
       " 'free standing \" window',\n",
       " 'an IfcSpatialElement',\n",
       " 'an IfcBuildingStorey',\n",
       " 'an opening',\n",
       " 'a wall',\n",
       " 'The window',\n",
       " 'a FillsVoids attribute',\n",
       " 'the IfcRelFillsElement relationship',\n",
       " 'the IfcWindow',\n",
       " 'the IfcOpeningElement',\n",
       " 'an element assembly',\n",
       " 'an IfcCurtainWall',\n",
       " 'The window',\n",
       " 'a Decomposes attribute',\n",
       " 'the',\n",
       " 'the IfcRelAggregates relationship',\n",
       " 'the window',\n",
       " 'the assembly',\n",
       " 'elements',\n",
       " 'representations',\n",
       " 'window occurrences',\n",
       " 'IfcWindow entities',\n",
       " 'a 3D rectangle',\n",
       " 'Profile shape representation',\n",
       " 'profile',\n",
       " 'the geometry',\n",
       " 'a window',\n",
       " 'the profile',\n",
       " 'the IfcOpeningElement',\n",
       " 'the window',\n",
       " 'an opening',\n",
       " 'The parameters',\n",
       " 'the relating IfcWindowType',\n",
       " 'IfcWindowLiningProperties',\n",
       " 'IfcWindowPanelProperties',\n",
       " 'panel',\n",
       " 'the window',\n",
       " 'IfcWindow entities',\n",
       " 'parametric',\n",
       " 'Brep',\n",
       " 'SurfaceModel geometry',\n",
       " 'an IfcWindow',\n",
       " 'a FootPrint',\n",
       " 'representation',\n",
       " 'the 2D shape',\n",
       " 'the window swing',\n",
       " 'the window width height',\n",
       " 'the window opening direction',\n",
       " 'the positive y - axis',\n",
       " 'the ObjectPlacement',\n",
       " 'The IfcWindowType spec',\n",
       " 'parameters',\n",
       " 'occurrences',\n",
       " 'IfcWindow',\n",
       " 'the partitioning type',\n",
       " 'single panel',\n",
       " 'double panel',\n",
       " 'tripel panel',\n",
       " 'more panels',\n",
       " 'the operation type swing',\n",
       " 'tilt',\n",
       " 'turn',\n",
       " 'pivot revolve',\n",
       " 'fixed casement',\n",
       " 'the window panel hinge side',\n",
       " 'two',\n",
       " 'styles',\n",
       " 'right opening windows',\n",
       " 'the attributes',\n",
       " 'the lining',\n",
       " 'the IfcWindowLiningProperties',\n",
       " 'the attributes',\n",
       " 'the panels',\n",
       " 'the IfcWindowPanelPropertiesREFERENCE Definition according',\n",
       " 'ISO 6707 - 1 Construction',\n",
       " 'a',\n",
       " 'near vertical opening',\n",
       " 'a wall',\n",
       " 'pitched roof',\n",
       " 'light',\n",
       " 'fresh air',\n",
       " 'NOTE The entity IfcWindowStandardCase',\n",
       " 'an IfcWindow',\n",
       " 'a',\n",
       " 'Profile representation',\n",
       " 'The IfcWindow',\n",
       " 'an IfcWindowType',\n",
       " 'ParameterTakesPrecedence set',\n",
       " 'TRUE',\n",
       " 'IFC4 CHANGE The attributes PredefinedType',\n",
       " 'OperationType',\n",
       " 'the applicable type object',\n",
       " 'changed',\n",
       " 'IfcWindowType',\n",
       " 'HISTORY New entity',\n",
       " 'IFC1 . 0']"
      ]
     },
     "execution_count": 16,
     "metadata": {},
     "output_type": "execute_result"
    }
   ],
   "source": [
    "objects"
   ]
  },
  {
   "cell_type": "code",
   "execution_count": null,
   "id": "1393de46",
   "metadata": {},
   "outputs": [],
   "source": []
  }
 ],
 "metadata": {
  "kernelspec": {
   "display_name": "Python 3 (ipykernel)",
   "language": "python",
   "name": "python3"
  },
  "language_info": {
   "codemirror_mode": {
    "name": "ipython",
    "version": 3
   },
   "file_extension": ".py",
   "mimetype": "text/x-python",
   "name": "python",
   "nbconvert_exporter": "python",
   "pygments_lexer": "ipython3",
   "version": "3.9.16"
  }
 },
 "nbformat": 4,
 "nbformat_minor": 5
}
