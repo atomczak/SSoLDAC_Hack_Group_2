{
 "cells": [
  {
   "cell_type": "code",
   "execution_count": 21,
   "id": "808c15c3",
   "metadata": {},
   "outputs": [],
   "source": [
    "from typing import Union, List, Any, Optional, Dict\n",
    "\n",
    "import os\n",
    "import re\n",
    "import time\n",
    "import json\n",
    "import glob\n",
    "import pickle\n",
    "import random\n",
    "import urllib\n",
    "import requests\n",
    "\n",
    "from bs4 import BeautifulSoup\n",
    "from tqdm import tqdm\n",
    "from pathlib import Path\n",
    "from textblob import TextBlob\n",
    "from collections import Counter\n",
    "\n",
    "from transformers import BertTokenizer, BertModel\n",
    "\n",
    "from utils import spar_utils\n",
    "from utils import cleaning_utils"
   ]
  },
  {
   "cell_type": "markdown",
   "id": "4310bfcb",
   "metadata": {},
   "source": [
    "#### Example IFC class and description\n",
    "* source: https://search-test.bsdd.buildingsmart.org/uri/buildingsmart/ifc-4.3/class/IfcWindow\n",
    "\n",
    "\n",
    "We'll use: \n",
    "* TextBlob (NLTK's implementation of punkttokenizer under the hood) to split into sentences.\n",
    "* SPaR.txt to predict which objects occur, some cleaning on top of this. \n"
   ]
  },
  {
   "cell_type": "code",
   "execution_count": 5,
   "id": "9d975d16",
   "metadata": {},
   "outputs": [],
   "source": [
    "label = \"IfcWindow\""
   ]
  },
  {
   "cell_type": "code",
   "execution_count": 6,
   "id": "34540962",
   "metadata": {},
   "outputs": [],
   "source": [
    "description = \"\"\"\n",
    "The window is a building element that is predominately used to provide natural light and fresh air. It includes vertical opening but also horizontal opening such as skylights or light domes. It includes constructions with swinging, pivoting, sliding, or revolving panels and fixed panels. A window consists of a lining and one or several panels. A window can:be a \"free standing\" window, contained in an IfcSpatialElement such as an IfcBuildingStorey. fill an opening, typically in a wall. The window will then have a FillsVoids attribute which uses the IfcRelFillsElement relationship to relate the IfcWindow with the IfcOpeningElement; be part of an element assembly, typically an IfcCurtainWall. The window will then have a Decomposes attribute which uses the the IfcRelAggregates relationship to relate the window with the assembly of elements;There are two main representations for window occurrences:IfcWindow entities that have a 3D rectangle 'Profile' shape representation defined. This profile can then be used to parametrically generate the geometry of a window. If not provided, the profile of the IfcOpeningElement can be used if the window fills an opening. The parameters are specified on the relating IfcWindowType that references IfcWindowLiningProperties and IfcWindowPanelProperties for each panel in the window; IfcWindow entities that are not parametrically generated and have only 'Brep', or 'SurfaceModel' geometry.In addition, an IfcWindow may commonly include a 'FootPrint' representation defining the 2D shape of the window and its swing.the window width and height the window opening direction (by the positive y-axis of the ObjectPlacement)The IfcWindowType specifies parameters which are common to all of its occurrences of IfcWindow:the partitioning type (single panel, double panel, tripel panel, more panels) the operation type (swing, tilt and turn, pivot revolve, fixed casement, etc.) the window panel hinge side (by using two different styles for right and left opening windows) the particular attributes for the lining by the IfcWindowLiningProperties the particular attributes for the panels by the  IfcWindowPanelPropertiesREFERENCE Definition according to ISO 6707-1 Construction for closing a vertical or near vertical opening in a wall or pitched roof that will admit light and may admit fresh air. NOTE The entity IfcWindowStandardCase has been deleted. Use an IfcWindow with a 'Profile' representation instead. The IfcWindow should also have an IfcWindowType with ParameterTakesPrecedence set to 'TRUE'. IFC4 CHANGE The attributes PredefinedType and OperationType are added, the applicable type object has been changed to IfcWindowType. HISTORY New entity in IFC1.0.\n",
    "\"\"\""
   ]
  },
  {
   "cell_type": "code",
   "execution_count": 7,
   "id": "2807a073",
   "metadata": {},
   "outputs": [],
   "source": [
    "# download SPaR.txt if required\n",
    "from pathlib import Path\n",
    "spartxt_path = Path(\"SPaR.txt/\")\n",
    "if not spartxt_path.exists():\n",
    "    !git clone https://github.com/rubenkruiper/SPaR.txt.git"
   ]
  },
  {
   "cell_type": "code",
   "execution_count": 8,
   "id": "857290f5",
   "metadata": {},
   "outputs": [],
   "source": [
    "# kind of convoluted way to import spar.txt as a module from the parent directory\n",
    "import imp\n",
    "with open(spartxt_path.joinpath('spar_predictor.py'), 'rb') as fp:\n",
    "    spar_predictor = imp.load_module(\n",
    "        'spar_predictor', fp, 'SPaR.txt.spar_predictor.py',\n",
    "        ('.py', 'rb', imp.PY_SOURCE)\n",
    "    )"
   ]
  },
  {
   "cell_type": "code",
   "execution_count": 10,
   "id": "9ebd1ab8",
   "metadata": {},
   "outputs": [],
   "source": [
    "# TRAIN/LOAD\n",
    "# - trains a model if needed, otherwise load from archive; \n",
    "# - best F1 on dev/validation in the paper is 80,96 trained on a GPU, CPU will be a bit lower ~77.x I think\n",
    "te = spar_utils.TermExtractor(max_num_cpu_threads=1)"
   ]
  },
  {
   "cell_type": "code",
   "execution_count": 14,
   "id": "88a36430",
   "metadata": {},
   "outputs": [
    {
     "data": {
      "text/plain": [
       "['The window is a building element that is predominately used to provide natural light and fresh air.',\n",
       " 'It includes vertical opening but also horizontal opening such as skylights or light domes.',\n",
       " 'It includes constructions with swinging, pivoting, sliding, or revolving panels and fixed panels.']"
      ]
     },
     "execution_count": 14,
     "metadata": {},
     "output_type": "execute_result"
    }
   ],
   "source": [
    "# use existing split into sentences functionality (uses textblob)\n",
    "sentences = te.split_into_sentences(description)\n",
    "# first 3 sents\n",
    "sentences[:3]"
   ]
  },
  {
   "cell_type": "code",
   "execution_count": 15,
   "id": "17b0304f",
   "metadata": {},
   "outputs": [],
   "source": [
    "objects = te.process_sentences(sentences)"
   ]
  },
  {
   "cell_type": "code",
   "execution_count": 18,
   "id": "07d738d6",
   "metadata": {},
   "outputs": [
    {
     "data": {
      "text/plain": [
       "['window occurrences',\n",
       " 'The parameters',\n",
       " 'one',\n",
       " 'a',\n",
       " 'the window',\n",
       " 'an opening',\n",
       " 'Brep',\n",
       " 'revolving',\n",
       " 'The IfcWindow',\n",
       " 'TRUE']"
      ]
     },
     "execution_count": 18,
     "metadata": {},
     "output_type": "execute_result"
    }
   ],
   "source": [
    "# Show some random extracted objects\n",
    "random.sample(objects, 10)"
   ]
  },
  {
   "cell_type": "code",
   "execution_count": 24,
   "id": "2a9c9c8c",
   "metadata": {},
   "outputs": [],
   "source": [
    "# some basic cleaning  \n",
    "regex_filter = cleaning_utils.RegexFilter()\n",
    "def run_filters(to_be_cleaned):\n",
    "    # some basic cleaning steps\n",
    "    _, regex_cleaned  = regex_filter.run_filter(to_be_cleaned) # _ would be the list of terms removed by our regex filters\n",
    "    basic_cleaned = cleaning_utils.custom_cleaning_rules(regex_cleaned)\n",
    "    determiners_removed = [cleaning_utils.remove_determiners(t) for t in basic_cleaned]\n",
    "    cleaned_terms = [t for t in determiners_removed if t]\n",
    "    cleaned_counter = Counter(cleaned_terms)\n",
    "    \n",
    "    # Could compare how often the objects occur in all extracted descriptions\n",
    "    cleaned_terms = [t for t in cleaned_terms if cleaned_counter[t] >= 1]\n",
    "    cleaned_counter = Counter({t: c for t, c in cleaned_counter.items() if c >= 1})\n",
    "    return cleaned_terms, cleaned_counter"
   ]
  },
  {
   "cell_type": "code",
   "execution_count": 26,
   "id": "8396b172",
   "metadata": {},
   "outputs": [
    {
     "data": {
      "text/plain": [
       "[('window', 9),\n",
       " ('IfcWindow', 5),\n",
       " ('panels', 3),\n",
       " ('fresh air', 2),\n",
       " ('lining', 2),\n",
       " ('opening', 2),\n",
       " ('IfcOpeningElement', 2),\n",
       " ('IfcWindow entities', 2),\n",
       " ('profile', 2),\n",
       " ('parameters', 2)]"
      ]
     },
     "execution_count": 26,
     "metadata": {},
     "output_type": "execute_result"
    }
   ],
   "source": [
    "_, obj_cntr = run_filters(objects)\n",
    "obj_cntr.most_common(10)"
   ]
  },
  {
   "cell_type": "markdown",
   "id": "0a9944c0",
   "metadata": {},
   "source": [
    "### Search for object"
   ]
  },
  {
   "cell_type": "code",
   "execution_count": 28,
   "id": "cd5e1946",
   "metadata": {},
   "outputs": [],
   "source": [
    "url_prefix = \"https://test.bsdd.buildingsmart.org/api/ClassificationSearchOpen/v1?SearchText=\""
   ]
  },
  {
   "cell_type": "code",
   "execution_count": 53,
   "id": "7c0f0882",
   "metadata": {},
   "outputs": [],
   "source": [
    "query = \"IfcWindow\""
   ]
  },
  {
   "cell_type": "code",
   "execution_count": 54,
   "id": "c303ab70",
   "metadata": {},
   "outputs": [],
   "source": [
    "try:\n",
    "    response = requests.get(url_prefix + urllib.parse.quote(query)).json()\n",
    "except: # todo: catch more elegantly\n",
    "    print(\"Search terms doesn't exist\")\n",
    "    "
   ]
  },
  {
   "cell_type": "code",
   "execution_count": 76,
   "id": "c25ac7bf",
   "metadata": {},
   "outputs": [],
   "source": [
    "def check_if_string_exists_as_bsdd_label(\n",
    "    query: str,\n",
    "    url_prefix: str = \"https://test.bsdd.buildingsmart.org/api/ClassificationSearchOpen/v1?SearchText=\"\n",
    "):\n",
    "    try:\n",
    "        response = requests.get(url_prefix + urllib.parse.quote(query)).json()\n",
    "        return response\n",
    "    except:\n",
    "        # no search results\n",
    "        return None\n",
    "    "
   ]
  },
  {
   "cell_type": "code",
   "execution_count": 82,
   "id": "08e4bf9c",
   "metadata": {},
   "outputs": [],
   "source": [
    "def parse_bsdd_api_results(json_response: Dict):\n",
    "    rows = []\n",
    "    for result in json_response['classifications']:\n",
    "        domain_namespace = result['domainNamespaceUri']\n",
    "\n",
    "        # LIMITED TO IFC 4.3 for now \n",
    "        if not str(domain_namespace).endswith(\"ifc-4.3\"):\n",
    "            continue\n",
    "\n",
    "        domain_name = result['domainName']\n",
    "        name = result['name']\n",
    "        reference_code = result['referenceCode'] if 'referenceCode' in result else None\n",
    "        namespace_uri = result['namespaceUri'] if 'namespaceUri' in result else None\n",
    "        description = result['description'] if 'description' in result else None\n",
    "        parent_name = result['parentClassificationName'] if 'parentClassificationName' in result else None\n",
    "        related_ifc_entity_names = result['relatedIfcEntityNames'] if 'relatedIfcEntityNames' in result else None\n",
    "        rows.append([name, description, related_ifc_entity_names])\n",
    "    return rows\n",
    "        \n",
    "    "
   ]
  },
  {
   "cell_type": "code",
   "execution_count": 86,
   "id": "52731c62",
   "metadata": {},
   "outputs": [
    {
     "data": {
      "text/plain": [
       "[['IfcWindow',\n",
       "  'The window is a building element that is predominately used to provide natural light and fresh air. It includes vertical opening but also horizontal opening such as skylights or light domes. It includes constructions with swinging, pivoting, sliding, or revolving panels and fixed panels. A window consists of a lining and one or several panels. A window can:be a \"free standing\" window, contained in an IfcSpatialElement such as an IfcBuildingStorey.\\nfill an opening, typically in a wall. The window will then have a FillsVoids attribute which uses the IfcRelFillsElement relationship to relate the IfcWindow with the IfcOpeningElement;\\nbe part of an element assembly, typically an IfcCurtainWall. The window will then have a Decomposes attribute which uses the the IfcRelAggregates relationship to relate the window with the assembly of elements;There are two main representations for window occurrences:IfcWindow entities that have a 3D rectangle \\'Profile\\' shape representation defined. This profile can then be used to parametrically generate the geometry of a window. If not provided, the profile of the IfcOpeningElement can be used if the window fills an opening. The parameters are specified on the relating IfcWindowType that references IfcWindowLiningProperties and IfcWindowPanelProperties for each panel in the window;\\nIfcWindow entities that are not parametrically generated and have only \\'Brep\\', or \\'SurfaceModel\\' geometry.In addition, an IfcWindow may commonly include a \\'FootPrint\\' representation defining the 2D shape of the window and its swing.the window width and height\\nthe window opening direction (by the positive y-axis of the ObjectPlacement)The IfcWindowType specifies parameters which are common to all of its occurrences of IfcWindow:the partitioning type (single panel, double panel, tripel panel, more panels)\\nthe operation type (swing, tilt and turn, pivot revolve, fixed casement, etc.)\\nthe window panel hinge side (by using two different styles for right and left opening windows)\\nthe particular attributes for the lining by the IfcWindowLiningProperties\\nthe particular attributes for the panels by the\\xa0 IfcWindowPanelPropertiesREFERENCE  Definition according to ISO 6707-1 Construction for closing a vertical or near vertical opening in a wall or pitched roof that will admit light and may admit fresh air.\\nNOTE  The entity IfcWindowStandardCase has been deleted. Use an IfcWindow with a \\'Profile\\' representation instead. The IfcWindow should also have an IfcWindowType with ParameterTakesPrecedence set to \\'TRUE\\'.\\nIFC4 CHANGE  The attributes PredefinedType and OperationType are added, the applicable type object has been changed to IfcWindowType.\\nHISTORY  New entity in IFC1.0.',\n",
       "  []],\n",
       " ['IfcWindow.LIGHTDOME',\n",
       "  'A special window that lies horizonally in a roof slab opening.',\n",
       "  []],\n",
       " ['IfcWindow.NOTDEFINED', 'Undefined window element.', []],\n",
       " ['IfcWindow.SKYLIGHT',\n",
       "  'A window within a sloped building element, usually a roof slab.',\n",
       "  []],\n",
       " ['IfcWindow.USERDEFINED', 'User-defined window element.', []],\n",
       " ['IfcWindow.WINDOW',\n",
       "  'A standard window usually within a wall opening, as a window panel in a curtain wall, or as a \"free standing\" window.',\n",
       "  []],\n",
       " ['IfcOpeningElement',\n",
       "  \"The opening element stands for opening, recess or chase, all reflecting voids. It represents a void within any element that has physical manifestation. Openings can be inserted into walls, slabs, beams, columns, or other elements.There are two different types of opening elements. The attribute PredefinedType should be used to capture the differences:an opening, where the thickness of the opening is greater or equal to the thickness of the element —\\n  the attribute PredefinedType is set to OPENING\\na recess or niche, where the thickness of the recess is smaller than the thickness of the element  —\\n  the attribute  PredefinedType is set to RECESS for a recess or niche.If the value for PredefinedType is omitted, or the value is set to NOTDEFINED, no specific information of whether it is an opening or recess shall be assumed.An IfcOpeningElement has to be inserted into an IfcElement by using the IfcRelVoidsElement relationship. It may be filled by an IfcDoor, IfcWindow, or another filling element by using the relationship IfcRelFillsElements. Depending on the type of the IfcShapeRepresentation of the IfcOpeningElement the voiding relationship implies:if the IfcShapeRepresentation.RepresentationIdentifier = 'Body', then the Body shape representation of the opening has to be subtracted from the body shape representation of the voided element - implicit Boolean difference operation.\\nif the IfcShapeRepresentation.RepresentationIdentifier = 'Reference', then the Reference shape representation of the opening is not subtracted, it is provided in addition to the hole in the Body shape representation of the voided element.The IfcOpeningElement shall not participate in the containment relationship, i.e. it is not linked directly to the spatial structure of the project. It has a mandatory VoidsElements inverse relationship pointing to the IfcElement that is contained in the spatial structure. The inverse relationship ContainedInStructure shall be NIL.REFERENCE Definition according to ISO 6707-1: void in a building element\\nNOTE  The entity IfcOpeningStandardCase has been deleted. Use an IfcOpeningElement with a single extrusion body perpendicular to the wall or slab instead.\\nNOTE  See IfcRelVoidsElement for a diagram on how to apply spatial containment and the voiding relationship.\\nIFC2x CHANGE  The intermediate ABSTRACT supertypes IfcFeatureElement and IfcFeatureSubtraction have been added.\\nIFC4 CHANGE  The attribute PredefinedType has been added at the end of attribute list. \\nHISTORY  New entity in IFC1.0\",\n",
       "  []]]"
      ]
     },
     "execution_count": 86,
     "metadata": {},
     "output_type": "execute_result"
    }
   ],
   "source": [
    "parse_bsdd_api_results(response)"
   ]
  },
  {
   "cell_type": "code",
   "execution_count": null,
   "id": "16d9c749",
   "metadata": {},
   "outputs": [],
   "source": []
  },
  {
   "cell_type": "code",
   "execution_count": 84,
   "id": "ed4feaa0",
   "metadata": {},
   "outputs": [],
   "source": [
    "# label = \"IfcWindow\"\n",
    "suggested_rel_dict = {}\n",
    "for obj, count in obj_cntr.most_common():\n",
    "    bsdd_results = check_if_string_exists_as_bsdd_label(obj)\n",
    "    rows = parse_bsdd_api_results(bsdd_results)\n",
    "    \n",
    "    if label not in suggested_rel_dict:\n",
    "        suggested_rel_dict[label] = {obj}"
   ]
  },
  {
   "cell_type": "code",
   "execution_count": 85,
   "id": "6c3e0ea8",
   "metadata": {},
   "outputs": [
    {
     "data": {
      "text/plain": [
       "{'IfcWindow': {'window'}}"
      ]
     },
     "execution_count": 85,
     "metadata": {},
     "output_type": "execute_result"
    }
   ],
   "source": [
    "suggested_rel_dict"
   ]
  }
 ],
 "metadata": {
  "kernelspec": {
   "display_name": "Python 3 (ipykernel)",
   "language": "python",
   "name": "python3"
  },
  "language_info": {
   "codemirror_mode": {
    "name": "ipython",
    "version": 3
   },
   "file_extension": ".py",
   "mimetype": "text/x-python",
   "name": "python",
   "nbconvert_exporter": "python",
   "pygments_lexer": "ipython3",
   "version": "3.9.16"
  }
 },
 "nbformat": 4,
 "nbformat_minor": 5
}
