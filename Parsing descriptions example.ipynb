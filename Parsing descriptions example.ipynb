{
 "cells": [
  {
   "cell_type": "code",
   "execution_count": 1,
   "id": "1a7eda24",
   "metadata": {},
   "outputs": [],
   "source": [
    "from typing import Union, List, Any, Optional, Dict\n",
    "\n",
    "import os\n",
    "import re\n",
    "import time\n",
    "import json\n",
    "import glob\n",
    "import pickle\n",
    "import random\n",
    "import urllib\n",
    "import requests\n",
    "\n",
    "from bs4 import BeautifulSoup\n",
    "from tqdm import tqdm\n",
    "from pathlib import Path\n",
    "from textblob import TextBlob\n",
    "from collections import Counter\n",
    "\n",
    "from transformers import BertTokenizer, BertModel\n",
    "\n",
    "from utils import cleaning_utils"
   ]
  },
  {
   "cell_type": "markdown",
   "id": "a767a2e3",
   "metadata": {},
   "source": [
    "#### Example IFC class and description\n",
    "* source: https://search-test.bsdd.buildingsmart.org/uri/buildingsmart/ifc-4.3/class/IfcWindow\n",
    "\n",
    "\n",
    "We'll use: \n",
    "* TextBlob (NLTK's implementation of punkttokenizer under the hood) to split into sentences.\n",
    "* SPaR.txt to predict which objects occur, some cleaning on top of this. \n"
   ]
  },
  {
   "cell_type": "code",
   "execution_count": 2,
   "id": "74818d5a",
   "metadata": {},
   "outputs": [],
   "source": [
    "label = \"IfcWindow\""
   ]
  },
  {
   "cell_type": "code",
   "execution_count": 3,
   "id": "de0f3b53",
   "metadata": {},
   "outputs": [],
   "source": [
    "description = \"\"\"\n",
    "The window is a building element that is predominately used to provide natural light and fresh air. \n",
    "It includes vertical opening but also horizontal opening such as skylights or light domes. \n",
    "It includes constructions with swinging, pivoting, sliding, or revolving panels and fixed panels. \n",
    "A window consists of a lining and one or several panels. \n",
    "A window can:be a \"free standing\" window, contained in an IfcSpatialElement such as an IfcBuildingStorey. \n",
    "fill an opening, typically in a wall. \n",
    "The window will then have a FillsVoids attribute which uses the IfcRelFillsElement relationship to relate the IfcWindow with the IfcOpeningElement; \n",
    "be part of an element assembly, typically an IfcCurtainWall. \n",
    "The window will then have a Decomposes attribute which uses the the IfcRelAggregates relationship to relate the window with the assembly of elements;\n",
    "There are two main representations for window occurrences:\n",
    "IfcWindow entities that have a 3D rectangle 'Profile' shape representation defined. \n",
    "This profile can then be used to parametrically generate the geometry of a window. \n",
    "If not provided, the profile of the IfcOpeningElement can be used if the window fills an opening. \n",
    "The parameters are specified on the relating IfcWindowType that references IfcWindowLiningProperties and \n",
    "IfcWindowPanelProperties for each panel in the window; \n",
    "IfcWindow entities that are not parametrically generated and have only 'Brep', or 'SurfaceModel' geometry.\n",
    "In addition, an IfcWindow may commonly include a 'FootPrint' representation defining the 2D shape of the window and its swing.\n",
    "the window width and height the window opening direction (by the positive y-axis of the ObjectPlacement)\n",
    "The IfcWindowType specifies parameters which are common to all of its occurrences of IfcWindow:\n",
    "the partitioning type (single panel, double panel, tripel panel, more panels) the operation type \n",
    "(swing, tilt and turn, pivot revolve, fixed casement, etc.) \n",
    "the window panel hinge side (by using two different styles for right and left opening windows) \n",
    "the particular attributes for the lining by the IfcWindowLiningProperties the particular attributes \n",
    "for the panels by the  IfcWindowPanelPropertiesREFERENCE Definition according to ISO 6707-1 Construction \n",
    "for closing a vertical or near vertical opening in a wall or pitched roof that will admit light and \n",
    "may admit fresh air. NOTE The entity IfcWindowStandardCase has been deleted. Use an IfcWindow with \n",
    "a 'Profile' representation instead. The IfcWindow should also have an IfcWindowType with \n",
    "ParameterTakesPrecedence set to 'TRUE'. IFC4 CHANGE The attributes PredefinedType and OperationType are\n",
    "added, the applicable type object has been changed to IfcWindowType. HISTORY New entity in IFC1.0.\n",
    "\"\"\""
   ]
  },
  {
   "cell_type": "code",
   "execution_count": 4,
   "id": "c77d5def",
   "metadata": {},
   "outputs": [],
   "source": [
    "label = \"abrasion\"\n",
    "description = \"\"\"wearing or grinding away of material by friction; usually caused by sand, gravel, or stones, carried by wind or water\"\"\""
   ]
  },
  {
   "cell_type": "code",
   "execution_count": null,
   "id": "04acdc9f",
   "metadata": {},
   "outputs": [],
   "source": []
  },
  {
   "cell_type": "code",
   "execution_count": 5,
   "id": "c3d3f4ff",
   "metadata": {},
   "outputs": [],
   "source": [
    "# download SPaR.txt if required\n",
    "from pathlib import Path\n",
    "spartxt_path = Path(\"SPaRtxt/\")\n",
    "if not spartxt_path.exists():\n",
    "    !git clone https://github.com/rubenkruiper/SPaR.txt.git SPaRtxt"
   ]
  },
  {
   "cell_type": "code",
   "execution_count": 6,
   "id": "de605bef",
   "metadata": {},
   "outputs": [],
   "source": [
    "# # kind of convoluted way to import spar.txt as a module from the parent directory\n",
    "# import imp\n",
    "# with open(spartxt_path.joinpath('spar_predictor.py'), 'rb') as fp:\n",
    "#     spar_predictor = imp.load_module(\n",
    "#         'spar_predictor', fp, 'SPaRtxt.spar_predictor.py',\n",
    "#         ('.py', 'rb', imp.PY_SOURCE)\n",
    "#     )"
   ]
  },
  {
   "cell_type": "code",
   "execution_count": null,
   "id": "5c3efd63",
   "metadata": {},
   "outputs": [],
   "source": []
  },
  {
   "cell_type": "code",
   "execution_count": 7,
   "id": "5abc2cd8",
   "metadata": {},
   "outputs": [],
   "source": [
    "# import sys \n",
    "# sys.path.insert(1, 'SPaRtxt/')"
   ]
  },
  {
   "cell_type": "code",
   "execution_count": 8,
   "id": "0fdd8b67",
   "metadata": {},
   "outputs": [],
   "source": [
    "from SPaRtxt import *"
   ]
  },
  {
   "cell_type": "code",
   "execution_count": 9,
   "id": "6fb240f7",
   "metadata": {},
   "outputs": [],
   "source": [
    "from utils import spar_utils"
   ]
  },
  {
   "cell_type": "code",
   "execution_count": null,
   "id": "c1b4638a",
   "metadata": {},
   "outputs": [],
   "source": []
  },
  {
   "cell_type": "code",
   "execution_count": null,
   "id": "b4902c20",
   "metadata": {},
   "outputs": [],
   "source": []
  },
  {
   "cell_type": "code",
   "execution_count": 10,
   "id": "90493823",
   "metadata": {},
   "outputs": [
    {
     "name": "stderr",
     "output_type": "stream",
     "text": [
      "Some weights of the model checkpoint at bert-base-cased were not used when initializing BertModel: ['cls.seq_relationship.weight', 'cls.predictions.decoder.weight', 'cls.predictions.transform.LayerNorm.weight', 'cls.seq_relationship.bias', 'cls.predictions.transform.dense.bias', 'cls.predictions.transform.LayerNorm.bias', 'cls.predictions.bias', 'cls.predictions.transform.dense.weight']\n",
      "- This IS expected if you are initializing BertModel from the checkpoint of a model trained on another task or with another architecture (e.g. initializing a BertForSequenceClassification model from a BertForPreTraining model).\n",
      "- This IS NOT expected if you are initializing BertModel from the checkpoint of a model that you expect to be exactly identical (initializing a BertForSequenceClassification model from a BertForSequenceClassification model).\n"
     ]
    }
   ],
   "source": [
    "# TRAIN/LOAD\n",
    "# - trains a model if needed, otherwise load from archive; \n",
    "# - best F1 on dev/validation in the paper is 80,96 trained on a GPU, CPU will be a bit lower ~77.x I think\n",
    "te = spar_utils.TermExtractor(max_num_cpu_threads=1)"
   ]
  },
  {
   "cell_type": "code",
   "execution_count": 11,
   "id": "ecc7ea74",
   "metadata": {},
   "outputs": [
    {
     "data": {
      "text/plain": [
       "['wearing or grinding away of material by friction',\n",
       " 'usually caused by sand, gravel, or stones, carried by wind or water']"
      ]
     },
     "execution_count": 11,
     "metadata": {},
     "output_type": "execute_result"
    }
   ],
   "source": [
    "# use existing split into sentences functionality (uses textblob)\n",
    "sentences = te.split_into_sentences(description)\n",
    "# first 3 sents\n",
    "sentences[:3]"
   ]
  },
  {
   "cell_type": "code",
   "execution_count": 12,
   "id": "fe261c63",
   "metadata": {},
   "outputs": [],
   "source": [
    "objects = te.process_sentences(sentences)"
   ]
  },
  {
   "cell_type": "code",
   "execution_count": 13,
   "id": "6b93e0ab",
   "metadata": {},
   "outputs": [],
   "source": [
    "# # Show some random extracted objects\n",
    "# random.sample(objects, 2)"
   ]
  },
  {
   "cell_type": "code",
   "execution_count": 14,
   "id": "03810c7a",
   "metadata": {},
   "outputs": [],
   "source": [
    "# some basic cleaning  \n",
    "regex_filter = cleaning_utils.RegexFilter()\n",
    "def run_filters(to_be_cleaned):\n",
    "    # some basic cleaning steps\n",
    "    _, regex_cleaned  = regex_filter.run_filter(to_be_cleaned) # _ would be the list of terms removed by our regex filters\n",
    "    basic_cleaned = cleaning_utils.custom_cleaning_rules(regex_cleaned)\n",
    "    determiners_removed = [cleaning_utils.remove_determiners(t) for t in basic_cleaned]\n",
    "    cleaned_terms = [t for t in determiners_removed if t]\n",
    "    cleaned_counter = Counter(cleaned_terms)\n",
    "    \n",
    "    # Could compare how often the objects occur in all extracted descriptions\n",
    "    cleaned_terms = [t for t in cleaned_terms if cleaned_counter[t] >= 1]\n",
    "    cleaned_counter = Counter({t: c for t, c in cleaned_counter.items() if c >= 1})\n",
    "    return cleaned_terms, cleaned_counter"
   ]
  },
  {
   "cell_type": "code",
   "execution_count": 15,
   "id": "dd02422d",
   "metadata": {},
   "outputs": [
    {
     "data": {
      "text/plain": [
       "[('material', 1),\n",
       " ('friction', 1),\n",
       " ('sand', 1),\n",
       " ('gravel', 1),\n",
       " ('stones', 1),\n",
       " ('wind', 1),\n",
       " ('water', 1)]"
      ]
     },
     "execution_count": 15,
     "metadata": {},
     "output_type": "execute_result"
    }
   ],
   "source": [
    "_, obj_cntr = run_filters(objects)\n",
    "obj_cntr.most_common(10)"
   ]
  },
  {
   "cell_type": "markdown",
   "id": "0d49f721",
   "metadata": {},
   "source": [
    "### Search for object"
   ]
  },
  {
   "cell_type": "code",
   "execution_count": 16,
   "id": "4a0f5513",
   "metadata": {},
   "outputs": [],
   "source": [
    "url_prefix = \"https://test.bsdd.buildingsmart.org/api/ClassificationSearchOpen/v1?SearchText=\""
   ]
  },
  {
   "cell_type": "code",
   "execution_count": 17,
   "id": "5158de3d",
   "metadata": {},
   "outputs": [],
   "source": [
    "query = \"\""
   ]
  },
  {
   "cell_type": "code",
   "execution_count": 18,
   "id": "82c0b9c5",
   "metadata": {},
   "outputs": [],
   "source": [
    "try:\n",
    "    response = requests.get(url_prefix + urllib.parse.quote(query)).json()\n",
    "except: # todo: catch more elegantly\n",
    "    print(\"Search terms doesn't exist\")\n",
    "    "
   ]
  },
  {
   "cell_type": "code",
   "execution_count": 19,
   "id": "bf81a53f",
   "metadata": {},
   "outputs": [
    {
     "data": {
      "text/plain": [
       "{'type': 'https://tools.ietf.org/html/rfc7231#section-6.5.1',\n",
       " 'title': 'One or more validation errors occurred.',\n",
       " 'status': 400,\n",
       " 'traceId': '00-10de75ac63b799e262eb3e71a7c772c3-fe17bd70d7c82e56-00',\n",
       " 'errors': {'SearchText': ['The SearchText field is required.']}}"
      ]
     },
     "execution_count": 19,
     "metadata": {},
     "output_type": "execute_result"
    }
   ],
   "source": [
    "response"
   ]
  },
  {
   "cell_type": "code",
   "execution_count": 20,
   "id": "beb7e8f9",
   "metadata": {},
   "outputs": [],
   "source": [
    "def check_if_string_exists_as_bsdd_label(\n",
    "    query: str,\n",
    "    url_prefix: str = \"https://test.bsdd.buildingsmart.org/api/ClassificationSearchOpen/v1?SearchText=\"\n",
    "):\n",
    "    try:\n",
    "        response = requests.get(url_prefix + urllib.parse.quote(query)).json()\n",
    "        return response\n",
    "    except:\n",
    "        # no search results\n",
    "        return None\n",
    "    "
   ]
  },
  {
   "cell_type": "code",
   "execution_count": 21,
   "id": "99b2cb53",
   "metadata": {},
   "outputs": [],
   "source": [
    "def parse_bsdd_api_response(json_response: Dict[str,str]):    \n",
    "    search_results = []\n",
    "    for result in json_response['classifications']:\n",
    "        domain_namespace = result['domainNamespaceUri']\n",
    "\n",
    "#         # LIMIT RESULTS TO IFC 4.3 for now \n",
    "#         if not str(domain_namespace).endswith(\"ifc-4.3\"):\n",
    "#             continue\n",
    "\n",
    "        domain_name = result['domainName']\n",
    "        name = result['name']\n",
    "        reference_code = result['referenceCode'] if 'referenceCode' in result else None\n",
    "        namespace_uri = result['namespaceUri'] if 'namespaceUri' in result else None\n",
    "        description = result['description'] if 'description' in result else None\n",
    "        parent_name = result['parentClassificationName'] if 'parentClassificationName' in result else None\n",
    "        related_ifc_entity_names = result['relatedIfcEntityNames'] if 'relatedIfcEntityNames' in result else None\n",
    "        \n",
    "        results_of_interest = {\"name\": name, \"description\": description, \"related\": related_ifc_entity_names}\n",
    "        search_results.append(results_of_interest)\n",
    "    return search_results"
   ]
  },
  {
   "cell_type": "code",
   "execution_count": null,
   "id": "1aafa5e1",
   "metadata": {},
   "outputs": [],
   "source": []
  },
  {
   "cell_type": "code",
   "execution_count": 55,
   "id": "03b76747",
   "metadata": {},
   "outputs": [],
   "source": [
    "# label = \"IfcWindow\"\n",
    "# objects as extracted from the definition for \"IfcWindow\"\n",
    "def suggest(label: str, obj_cntr: Counter):\n",
    "    useless_objs = [\"entity\", \"HISTORY\"]\n",
    "    top_k = 5\n",
    "\n",
    "    suggested_rel_dict = {label: {}}\n",
    "    for obj, count in tqdm(obj_cntr.most_common()):\n",
    "\n",
    "        if obj in useless_objs or obj in label:\n",
    "            continue\n",
    "\n",
    "        # 1) search for bsdd nodes with the object span as the query\n",
    "        bsdd_response = check_if_string_exists_as_bsdd_label(obj)\n",
    "        if bsdd_response:\n",
    "            bsdd_results = parse_bsdd_api_response(bsdd_response)\n",
    "        else:\n",
    "            continue\n",
    "\n",
    "        if top_k:\n",
    "            # only look at top_k results from bsdd search\n",
    "            bsdd_results = bsdd_results[:top_k]\n",
    "\n",
    "        # 2) Compare if the retrieved, potentially related nodes, contain the same object in their description\n",
    "        terms_with_overlap_in_description_objects = {}\n",
    "        for result_dict in bsdd_results:\n",
    "            name = result_dict[\"name\"] if \"name\" in result_dict else None\n",
    "            bsdd_description = result_dict[\"description\"] if \"description\" in result_dict else None\n",
    "            if not bsdd_description:\n",
    "                continue \n",
    "\n",
    "            if obj in bsdd_description:\n",
    "                if name not in terms_with_overlap_in_description_objects:\n",
    "                    terms_with_overlap_in_description_objects[name] = [obj]\n",
    "                else:\n",
    "                    terms_with_overlap_in_description_objects[name].append(obj)\n",
    "                    \n",
    "\n",
    "        # 3) Collect suggestions of related terms\n",
    "        for potentially_related, matching_objects in terms_with_overlap_in_description_objects.items():\n",
    "            if label == potentially_related or label.startswith(potentially_related) or potentially_related.startswith(label):\n",
    "                # we assume that if the original label occurs in the search results for a span, they are too close\n",
    "    #             print(f\"Skipping self: {label} found when searching for {obj}\")\n",
    "                continue\n",
    "            \n",
    "            if len(matching_objects) < 1:\n",
    "                continue\n",
    "            \n",
    "            if potentially_related not in suggested_rel_dict[label]:\n",
    "                suggested_rel_dict[label][potentially_related] = matching_objects\n",
    "            else:\n",
    "                suggested_rel_dict[label][potentially_related] += matching_objects\n",
    "    return suggested_rel_dict"
   ]
  },
  {
   "cell_type": "code",
   "execution_count": 56,
   "id": "6f284ee7",
   "metadata": {},
   "outputs": [],
   "source": [
    "def spartxt_ner(long_description: str):\n",
    "    # use existing split into sentences functionality (uses textblob)\n",
    "    sentences = te.split_into_sentences(long_description)\n",
    "    objects = te.process_sentences(sentences)\n",
    "    _, object_counter = run_filters(objects)\n",
    "    return object_counter"
   ]
  },
  {
   "cell_type": "code",
   "execution_count": 57,
   "id": "32a29413",
   "metadata": {},
   "outputs": [],
   "source": [
    "label = \"abrasion\"\n",
    "description = \"\"\"wearing or grinding away of material by friction; usually caused by sand, gravel, or stones, carried by wind or water\"\"\""
   ]
  },
  {
   "cell_type": "code",
   "execution_count": 58,
   "id": "1f071bca",
   "metadata": {
    "scrolled": false
   },
   "outputs": [
    {
     "name": "stdout",
     "output_type": "stream",
     "text": [
      "Term: abrasion \n",
      "Definition: wearing or grinding away of material by friction; usually caused by sand, gravel, or stones, carried by wind or water\n"
     ]
    },
    {
     "name": "stderr",
     "output_type": "stream",
     "text": [
      "100%|█████████████████████████████████████████████████████████████████████████████████████████████████████████████████████████████████████████████████████████████████████████| 7/7 [00:03<00:00,  2.30it/s]\n"
     ]
    },
    {
     "data": {
      "text/plain": [
       "{'abrasion': {'IfcMaterial': ['material'],\n",
       "  'IfcMaterialDefinition': ['material'],\n",
       "  'IfcConstructionMaterialResource': ['material'],\n",
       "  'IfcBeam.LINTEL': ['material'],\n",
       "  'IfcMarineFacility.JETTY': ['material'],\n",
       "  'IfcPile.FRICTION': ['friction'],\n",
       "  'IfcVibrationDamper.FRICTION': ['friction'],\n",
       "  'IfcImpactProtectionDevice': ['friction'],\n",
       "  'IfcVibrationDamper': ['friction'],\n",
       "  'IfcCourse': ['sand'],\n",
       "  'IfcImpactProtectionDevice.BUMPER': ['sand'],\n",
       "  'IfcTrackElement.VEHICLESTOP': ['sand'],\n",
       "  'IfcMarineFacility.BARRIERBEACH': ['sand'],\n",
       "  'IfcWall.PARTITIONING': ['sand'],\n",
       "  'IfcCourse.BALLASTBED': ['stones'],\n",
       "  'IfcWindow': ['wind'],\n",
       "  'IfcWindow.LIGHTDOME': ['wind'],\n",
       "  'IfcWindow.NOTDEFINED': ['wind'],\n",
       "  'IfcCoil.WATERCOOLINGCOIL': ['water'],\n",
       "  'IfcCoil.WATERHEATINGCOIL': ['water']}}"
      ]
     },
     "execution_count": 58,
     "metadata": {},
     "output_type": "execute_result"
    }
   ],
   "source": [
    "print(f\"Term: {label} \\nDefinition: {description}\")\n",
    "object_counter = spartxt_ner(description)\n",
    "suggest(label, object_counter)"
   ]
  },
  {
   "cell_type": "code",
   "execution_count": 59,
   "id": "9a2cfa9b",
   "metadata": {},
   "outputs": [],
   "source": [
    "label = \"IfcWindow\"\n",
    "description = \"\"\"\n",
    "The window is a building element that is predominately used to provide natural light and fresh air.  It includes vertical opening but also horizontal opening such as skylights or light domes.  It includes constructions with swinging, pivoting, sliding, or revolving panels and fixed panels.  A window consists of a lining and one or several panels.  A window can:be a \"free standing\" window, contained in an IfcSpatialElement such as an IfcBuildingStorey.  fill an opening, typically in a wall.  The window will then have a FillsVoids attribute which uses the IfcRelFillsElement relationship to relate the IfcWindow with the IfcOpeningElement;  be part of an element assembly, typically an IfcCurtainWall.  The window will then have a Decomposes attribute which uses the the IfcRelAggregates relationship to relate the window with the assembly of elements; There are two main representations for window occurrences: IfcWindow entities that have a 3D rectangle 'Profile' shape representation defined.  This profile can then be used to parametrically generate the geometry of a window.  If not provided, the profile of the IfcOpeningElement can be used if the window fills an opening.  The parameters are specified on the relating IfcWindowType that references IfcWindowLiningProperties and  IfcWindowPanelProperties for each panel in the window;  IfcWindow entities that are not parametrically generated and have only 'Brep', or 'SurfaceModel' geometry. In addition, an IfcWindow may commonly include a 'FootPrint' representation defining the 2D shape of the window and its swing. the window width and height the window opening direction (by the positive y-axis of the ObjectPlacement) The IfcWindowType specifies parameters which are common to all of its occurrences of IfcWindow: the partitioning type (single panel, double panel, tripel panel, more panels) the operation type  (swing, tilt and turn, pivot revolve, fixed casement, etc.)  the window panel hinge side (by using two different styles for right and left opening windows)  the particular attributes for the lining by the IfcWindowLiningProperties the particular attributes  for the panels by the  IfcWindowPanelPropertiesREFERENCE Definition according to ISO 6707-1 Construction  for closing a vertical or near vertical opening in a wall or pitched roof that will admit light and  may admit fresh air. NOTE The entity IfcWindowStandardCase has been deleted. Use an IfcWindow with  a 'Profile' representation instead. The IfcWindow should also have an IfcWindowType with  ParameterTakesPrecedence set to 'TRUE'. IFC4 CHANGE The attributes PredefinedType and OperationType are added, the applicable type object has been changed to IfcWindowType. HISTORY New entity in IFC1.0.\n",
    "\"\"\""
   ]
  },
  {
   "cell_type": "code",
   "execution_count": 60,
   "id": "c5e3b223",
   "metadata": {
    "scrolled": false
   },
   "outputs": [
    {
     "name": "stdout",
     "output_type": "stream",
     "text": [
      "Term: IfcWindow \n",
      "Definition: \n",
      "The window is a building element that is predominately used to provide natural light and fresh air.  It includes vertical opening but also horizontal opening such as skylights or light domes.  It includes constructions with swinging, pivoting, sliding, or revolving panels and fixed panels.  A window consists of a lining and one or several panels.  A window can:be a \"free standing\" window, contained in an IfcSpatialElement such as an IfcBuildingStorey.  fill an opening, typically in a wall.  The window will then have a FillsVoids attribute which uses the IfcRelFillsElement relationship to relate the IfcWindow with the IfcOpeningElement;  be part of an element assembly, typically an IfcCurtainWall.  The window will then have a Decomposes attribute which uses the the IfcRelAggregates relationship to relate the window with the assembly of elements; There are two main representations for window occurrences: IfcWindow entities that have a 3D rectangle 'Profile' shape representation defined.  This profile can then be used to parametrically generate the geometry of a window.  If not provided, the profile of the IfcOpeningElement can be used if the window fills an opening.  The parameters are specified on the relating IfcWindowType that references IfcWindowLiningProperties and  IfcWindowPanelProperties for each panel in the window;  IfcWindow entities that are not parametrically generated and have only 'Brep', or 'SurfaceModel' geometry. In addition, an IfcWindow may commonly include a 'FootPrint' representation defining the 2D shape of the window and its swing. the window width and height the window opening direction (by the positive y-axis of the ObjectPlacement) The IfcWindowType specifies parameters which are common to all of its occurrences of IfcWindow: the partitioning type (single panel, double panel, tripel panel, more panels) the operation type  (swing, tilt and turn, pivot revolve, fixed casement, etc.)  the window panel hinge side (by using two different styles for right and left opening windows)  the particular attributes for the lining by the IfcWindowLiningProperties the particular attributes  for the panels by the  IfcWindowPanelPropertiesREFERENCE Definition according to ISO 6707-1 Construction  for closing a vertical or near vertical opening in a wall or pitched roof that will admit light and  may admit fresh air. NOTE The entity IfcWindowStandardCase has been deleted. Use an IfcWindow with  a 'Profile' representation instead. The IfcWindow should also have an IfcWindowType with  ParameterTakesPrecedence set to 'TRUE'. IFC4 CHANGE The attributes PredefinedType and OperationType are added, the applicable type object has been changed to IfcWindowType. HISTORY New entity in IFC1.0.\n",
      "\n"
     ]
    },
    {
     "name": "stderr",
     "output_type": "stream",
     "text": [
      "100%|███████████████████████████████████████████████████████████████████████████████████████████████████████████████████████████████████████████████████████████████████████| 87/87 [00:25<00:00,  3.36it/s]\n"
     ]
    },
    {
     "data": {
      "text/plain": [
       "{'IfcWindow': {'IfcMember.MULLION': ['panels', 'panel'],\n",
       "  'IfcOpeningElement': ['opening', 'IfcOpeningElement'],\n",
       "  'IfcOpeningElement.NOTDEFINED': ['opening'],\n",
       "  'IfcOpeningElement.OPENING': ['opening'],\n",
       "  'IfcOpeningElement.RECESS': ['opening'],\n",
       "  'IfcOpeningElement.USERDEFINED': ['opening'],\n",
       "  'IfcProfileDef': ['profile', 'Profile'],\n",
       "  'IfcArbitraryClosedProfileDef': ['profile', 'Profile'],\n",
       "  'IfcArbitraryProfileDefWithVoids': ['profile', 'Profile'],\n",
       "  'IfcPlate.FLANGE_PLATE': ['profile'],\n",
       "  'IfcPlate.WEB_PLATE': ['profile'],\n",
       "  'IfcUnitaryControlElement.BASESTATIONCONTROLLER': ['parameters'],\n",
       "  'IfcUnitaryControlElement.INDICATORPANEL': ['parameters'],\n",
       "  'IfcSurfaceFeature': ['parameters'],\n",
       "  'IfcCovering': ['representation'],\n",
       "  'IfcCurtainWall': ['representation',\n",
       "   'IfcCurtainWall',\n",
       "   'IfcRelAggregates relationship',\n",
       "   'representations'],\n",
       "  'IfcDiscreteAccessory': ['representation'],\n",
       "  'IfcElectricDistributionBoard': ['representation'],\n",
       "  'IfcDistributionBoard': ['representation'],\n",
       "  'IfcBuildingElementPart': ['building element'],\n",
       "  'IfcShadingDevice': ['natural light'],\n",
       "  'IfcBuilding': ['several'],\n",
       "  'IfcElementAssembly.RAIL_MECHANICAL_EQUIPMENT_ASSEMBLY': ['several'],\n",
       "  'IfcRampFlight': ['several'],\n",
       "  'IfcReinforcingElement': ['several'],\n",
       "  'IfcSite': ['several'],\n",
       "  'IfcBuildingSystem': ['IfcSpatialElement'],\n",
       "  'IfcBuiltSystem': ['IfcSpatialElement'],\n",
       "  'IfcDistributionSystem': ['IfcSpatialElement'],\n",
       "  'IfcDoor': ['IfcSpatialElement',\n",
       "   'IfcBuildingStorey',\n",
       "   'FillsVoids attribute',\n",
       "   'IfcRelFillsElement relationship',\n",
       "   'IfcCurtainWall',\n",
       "   'Decomposes attribute',\n",
       "   'rectangle',\n",
       "   'FootPrint',\n",
       "   '2D shape',\n",
       "   'swing',\n",
       "   'ObjectPlacement',\n",
       "   'left',\n",
       "   'ParameterTakesPrecedence',\n",
       "   'TRUE'],\n",
       "  'IfcBuildingStorey': ['IfcBuildingStorey'],\n",
       "  'IfcSpace': ['IfcBuildingStorey'],\n",
       "  'IfcSpatialStructureElement': ['IfcBuildingStorey'],\n",
       "  'IfcCurtainWall.NOTDEFINED': ['IfcCurtainWall'],\n",
       "  'IfcCurtainWall.USERDEFINED': ['IfcCurtainWall'],\n",
       "  'IfcPlate': ['IfcCurtainWall', 'parametric', 'Brep'],\n",
       "  'IfcDistributionPort': ['geometry'],\n",
       "  'IfcSlab': ['geometry', 'parametric', 'Brep'],\n",
       "  'IfcTendon': ['geometry'],\n",
       "  'IfcVirtualElement': ['geometry'],\n",
       "  'IfcSystemFurnitureElement.PANEL': ['panel'],\n",
       "  'IfcImpactProtectionDevice.BUMPER': ['panel'],\n",
       "  'IfcBeam': ['parametric', 'Brep'],\n",
       "  'IfcColumn': ['parametric', 'Brep'],\n",
       "  'IfcMember': ['parametric', 'Brep'],\n",
       "  'IfcFeatureElementAddition': ['ObjectPlacement'],\n",
       "  'IfcGrid': ['ObjectPlacement'],\n",
       "  'IfcFeatureElementSubtraction': ['ObjectPlacement'],\n",
       "  'IfcProduct': ['ObjectPlacement'],\n",
       "  'IfcRailwayPart.TURNOUTSUPERSTRUCTURE': ['turn'],\n",
       "  'IfcSensor.TURNOUTCLOSURESENSOR': ['turn'],\n",
       "  'IfcRail.BLADE': ['left'],\n",
       "  'IfcTrackElement.HALF_SET_OF_BLADES': ['left'],\n",
       "  'IfcRail.STOCKRAIL': ['left'],\n",
       "  'IfcPump.VERTICALTURBINE': ['vertical'],\n",
       "  'IfcReinforcedSoil.VERTICALLYDRAINED': ['vertical'],\n",
       "  'IfcAlignmentVertical': ['vertical'],\n",
       "  'IfcBearing.GUIDE': ['vertical'],\n",
       "  'IfcCourse': ['near'],\n",
       "  'IfcUnitaryControlElement.HUMIDISTAT': ['near'],\n",
       "  'IfcUnitaryControlElement.THERMOSTAT': ['near'],\n",
       "  'IfcCooledBeam': ['near'],\n",
       "  'IfcDiscreteAccessory.RAIL_LUBRICATION': ['near'],\n",
       "  'IfcLightFixture': ['light'],\n",
       "  'IfcLightFixture.DIRECTIONSOURCE': ['light'],\n",
       "  'IfcLightFixture.POINTSOURCE': ['light'],\n",
       "  'IfcFurniture': ['TRUE']}}"
      ]
     },
     "execution_count": 60,
     "metadata": {},
     "output_type": "execute_result"
    }
   ],
   "source": [
    "print(f\"Term: {label} \\nDefinition: {description}\")\n",
    "object_counter = spartxt_ner(description)\n",
    "suggest(label, object_counter)"
   ]
  },
  {
   "cell_type": "markdown",
   "id": "3b6c464e",
   "metadata": {},
   "source": [
    "**Alternative heuristics**:\n",
    "* KNN graph / k nearest neighbours based on embeddings\n",
    "* consider combining label with objects in defintion for a representantion?"
   ]
  },
  {
   "cell_type": "code",
   "execution_count": null,
   "id": "e68ac30c",
   "metadata": {},
   "outputs": [],
   "source": []
  },
  {
   "cell_type": "code",
   "execution_count": null,
   "id": "208d50f5",
   "metadata": {},
   "outputs": [],
   "source": []
  },
  {
   "cell_type": "code",
   "execution_count": null,
   "id": "c4f86b5b",
   "metadata": {},
   "outputs": [],
   "source": []
  }
 ],
 "metadata": {
  "kernelspec": {
   "display_name": "Python 3 (ipykernel)",
   "language": "python",
   "name": "python3"
  },
  "language_info": {
   "codemirror_mode": {
    "name": "ipython",
    "version": 3
   },
   "file_extension": ".py",
   "mimetype": "text/x-python",
   "name": "python",
   "nbconvert_exporter": "python",
   "pygments_lexer": "ipython3",
   "version": "3.9.16"
  }
 },
 "nbformat": 4,
 "nbformat_minor": 5
}
