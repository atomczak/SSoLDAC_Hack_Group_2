{
 "cells": [
  {
   "cell_type": "code",
   "execution_count": 1,
   "id": "843333e7",
   "metadata": {},
   "outputs": [],
   "source": [
    "from typing import Union, List, Any, Optional, Dict\n",
    "\n",
    "import os\n",
    "import re\n",
    "import time\n",
    "import torch\n",
    "import json\n",
    "import glob\n",
    "import pickle\n",
    "import random\n",
    "import urllib\n",
    "import requests\n",
    "\n",
    "import numpy as np\n",
    "import pandas as pd\n",
    "import torch.nn as nn\n",
    "\n",
    "from bs4 import BeautifulSoup\n",
    "from tqdm import tqdm\n",
    "from pathlib import Path\n",
    "from textblob import TextBlob\n",
    "from collections import Counter\n",
    "from itertools import combinations\n",
    "from sentence_transformers import SentenceTransformer\n",
    "from sentence_transformers.util import pytorch_cos_sim\n",
    "\n",
    "from rdflib import URIRef, BNode, Literal, Namespace, Graph\n",
    "from rdflib.namespace import XSD, RDF, RDFS, SKOS, NamespaceManager\n",
    "\n",
    "from utilities import cleaning_utils\n",
    "from utilities.spar_utils import NER"
   ]
  },
  {
   "cell_type": "markdown",
   "id": "a22a2de3",
   "metadata": {},
   "source": [
    "### Our starting point is a .ttl file containing new terms and corresponding definitions\n",
    "* In this case, generated from a .csv file using ontotext"
   ]
  },
  {
   "cell_type": "code",
   "execution_count": 2,
   "id": "9b24d271",
   "metadata": {},
   "outputs": [],
   "source": [
    "path_to_input = Path(\"data\", \"tpfDefinitions.ttl\")"
   ]
  },
  {
   "cell_type": "code",
   "execution_count": 3,
   "id": "5a3ca3c4",
   "metadata": {},
   "outputs": [
    {
     "data": {
      "text/plain": [
       "<Graph identifier=N250580546b6147bd9ef4178f36822e92 (<class 'rdflib.graph.Graph'>)>"
      ]
     },
     "execution_count": 3,
     "metadata": {},
     "output_type": "execute_result"
    }
   ],
   "source": [
    "from rdflib import Graph\n",
    "new_graph = Graph()\n",
    "new_graph.parse(path_to_input, format='ttl')"
   ]
  },
  {
   "cell_type": "code",
   "execution_count": 4,
   "id": "d116d0e7",
   "metadata": {},
   "outputs": [
    {
     "data": {
      "text/plain": [
       "[(rdflib.term.URIRef('http://example.com/resource/Term'),),\n",
       " (rdflib.term.URIRef('http://example.com/resource/Reference'),),\n",
       " (rdflib.term.URIRef('http://www.w3.org/1999/02/22-rdf-syntax-ns#type'),),\n",
       " (rdflib.term.URIRef('http://example.com/resource/Definition'),)]"
      ]
     },
     "execution_count": 4,
     "metadata": {},
     "output_type": "execute_result"
    }
   ],
   "source": [
    "predicates_query = \"\"\"\n",
    "SELECT DISTINCT ?p WHERE {\n",
    "    ?s ?p ?o .\n",
    "}\n",
    "\"\"\"\n",
    "predicate_response = new_graph.query(predicates_query)\n",
    "[row for row in predicate_response]"
   ]
  },
  {
   "cell_type": "code",
   "execution_count": 5,
   "id": "d438839d",
   "metadata": {},
   "outputs": [],
   "source": [
    "terms_to_add_query = \"\"\"\n",
    "prefix ex: <http://example.com/resource/>\n",
    "\n",
    "SELECT DISTINCT ?uid ?reference ?term ?definition WHERE{\n",
    "    ?uid ex:Term ?term ;\n",
    "         ex:Reference ?reference ;\n",
    "         ex:Definition ?definition .  \n",
    "}\n",
    "\n",
    "\"\"\"\n",
    "new_terms_response = new_graph.query(terms_to_add_query)"
   ]
  },
  {
   "cell_type": "code",
   "execution_count": 6,
   "id": "7e5cd7cf",
   "metadata": {},
   "outputs": [
    {
     "data": {
      "text/plain": [
       "[(rdflib.term.URIRef('http://example.com/resource/%22A%22%20Car'),\n",
       "  rdflib.term.Literal('AASHTO. (2009). Transportation Glossary (4th ed.)'),\n",
       "  rdflib.term.Literal('\"A\" Car'),\n",
       "  rdflib.term.Literal('A motive-powered unit so designed that it may be used as the controlling unit of a multiple-unit train and that has adequate visibility in a forward direction, as well as a cab and equipment, to permit full control and observation of the propulsion power and brake applications for the train.')),\n",
       " (rdflib.term.URIRef('http://example.com/resource/%22B%22%20Car'),\n",
       "  rdflib.term.Literal('AASHTO. (2009). Transportation Glossary (4th ed.)'),\n",
       "  rdflib.term.Literal('\"B\" Car'),\n",
       "  rdflib.term.Literal('A motive-powered unit designed primarily for use in combination with an “A” unit for the purpose of increasing power, but not equipped for use as the leading unit for full observation of the propulsion power and brake applications for the train; it is normally equipped with a single control station to permit independent movement of the unit itself. ')),\n",
       " (rdflib.term.URIRef('http://example.com/resource/%22C%22%20Car'),\n",
       "  rdflib.term.Literal('AASHTO. (2009). Transportation Glossary (4th ed.)'),\n",
       "  rdflib.term.Literal('\"C\" Car'),\n",
       "  rdflib.term.Literal(' A self-propelled rail car that does not have a control cab (may also refer to a double-ended car). '))]"
      ]
     },
     "execution_count": 6,
     "metadata": {},
     "output_type": "execute_result"
    }
   ],
   "source": [
    "# some examples\n",
    "new_rows = [row for row in new_terms_response]\n",
    "[row for row in new_terms_response][:3]"
   ]
  },
  {
   "cell_type": "markdown",
   "id": "5ffb4859",
   "metadata": {},
   "source": [
    "### We'll be suggesting potential links to nodes in our bSDD graph (representing bSDD)\n",
    "1. using exact matches in the description, linking to nodes returned by the standard search API\n",
    "2. using semantic similarity based on node+description, linking to nodes in our bSDD graph\n",
    "3. using description overlap, relying on the objects occuring in our bSDD graph descriptions"
   ]
  },
  {
   "cell_type": "markdown",
   "id": "842cd10d",
   "metadata": {},
   "source": [
    "#### 1. Search for some term in bSDD and parse results\n",
    "This section contains example code to suggest hyperlinks based on a term's description."
   ]
  },
  {
   "cell_type": "code",
   "execution_count": 7,
   "id": "936e6ec4",
   "metadata": {},
   "outputs": [],
   "source": [
    "# API endpoint\n",
    "url_prefix = \"https://test.bsdd.buildingsmart.org/api/ClassificationSearchOpen/v1?SearchText=\""
   ]
  },
  {
   "cell_type": "code",
   "execution_count": 8,
   "id": "caa6f22c",
   "metadata": {},
   "outputs": [],
   "source": [
    "def check_if_string_exists_as_bsdd_label(\n",
    "    query: str,\n",
    "    url_prefix: str = \"https://test.bsdd.buildingsmart.org/api/ClassificationSearchOpen/v1?SearchText=\"\n",
    "):\n",
    "    \"\"\"\n",
    "    Try to find a result for `query`. Returns None if the API response cannot be converted to json, e.g., if the\n",
    "    response is empty.\n",
    "    \"\"\"\n",
    "    try:\n",
    "        response = requests.get(url_prefix + urllib.parse.quote(query)).json()\n",
    "        return response\n",
    "    except:\n",
    "        # no search results\n",
    "        return None\n",
    "    "
   ]
  },
  {
   "cell_type": "code",
   "execution_count": 9,
   "id": "89b202cb",
   "metadata": {},
   "outputs": [],
   "source": [
    "def parse_bsdd_api_response(json_response: Dict[str,str]):    \n",
    "    search_results = []\n",
    "    for result in json_response['classifications']:\n",
    "        domain_namespace = result['domainNamespaceUri']\n",
    "\n",
    "#         # EXAMPLE, LIMIT RESULTS TO IFC 4.3 namespace\n",
    "#         if not str(domain_namespace).endswith(\"ifc-4.3\"):\n",
    "#             continue\n",
    "\n",
    "        domain_name = result['domainName']\n",
    "        name = result['name']\n",
    "        reference_code = result['referenceCode'] if 'referenceCode' in result else None\n",
    "        namespace_uri = result['namespaceUri'] if 'namespaceUri' in result else None\n",
    "        description = result['description'] if 'description' in result else None\n",
    "        parent_name = result['parentClassificationName'] if 'parentClassificationName' in result else None\n",
    "        related_ifc_entity_names = result['relatedIfcEntityNames'] if 'relatedIfcEntityNames' in result else None\n",
    "        \n",
    "        results_of_interest = {\n",
    "            \"name\": name, \n",
    "            \"description\": description,\n",
    "            \"related\": related_ifc_entity_names,\n",
    "            \"uid\": namespace_uri\n",
    "        }\n",
    "        search_results.append(results_of_interest)\n",
    "    return search_results"
   ]
  },
  {
   "cell_type": "code",
   "execution_count": 10,
   "id": "41b07a60",
   "metadata": {},
   "outputs": [
    {
     "data": {
      "text/plain": [
       "[{'name': 'Window',\n",
       "  'description': 'space access object for light entry only',\n",
       "  'related': ['IfcWindow', 'IfcWindowStandardCase'],\n",
       "  'uid': 'https://identifier.buildingsmart.org/uri/molio/cciconstruction-1.0/class/L-QQA'},\n",
       " {'name': 'Window',\n",
       "  'description': None,\n",
       "  'related': ['IfcWindow'],\n",
       "  'uid': 'https://identifier.buildingsmart.org/uri/BBRI/BBRI-0.3/class/Window'},\n",
       " {'name': 'Window',\n",
       "  'description': None,\n",
       "  'related': ['IfcWindow'],\n",
       "  'uid': 'https://identifier.buildingsmart.org/uri/bw/BW-0.1/class/Window'},\n",
       " {'name': 'Window',\n",
       "  'description': 'space access object for light entry only',\n",
       "  'related': ['IfcWindow', 'IfcWindowStandardCase'],\n",
       "  'uid': 'https://identifier.buildingsmart.org/uri/acca/ACCAtest-0.1/class/L-QQA'}]"
      ]
     },
     "execution_count": 10,
     "metadata": {},
     "output_type": "execute_result"
    }
   ],
   "source": [
    "query = \"window\"\n",
    "json_result = check_if_string_exists_as_bsdd_label(query)\n",
    "parsed_result = parse_bsdd_api_response(json_result) if json_result else None\n",
    "\n",
    "# let's keep it simple and check for exact matches only when searching bSDD\n",
    "[x for x in parsed_result if x['name'].lower() == query]"
   ]
  },
  {
   "cell_type": "code",
   "execution_count": 11,
   "id": "39d3ebd2",
   "metadata": {},
   "outputs": [],
   "source": [
    "# test for a query that doesn't exist in bSDD\n",
    "query = \"exa1354mple\"\n",
    "json_result = check_if_string_exists_as_bsdd_label(query)\n",
    "parsed_result = parse_bsdd_api_response(json_result) if json_result else None\n",
    "parsed_result # returns None"
   ]
  },
  {
   "cell_type": "markdown",
   "id": "a34139c2",
   "metadata": {},
   "source": [
    "* We'll rely on this code to suggest hyperlinks for terms found in a description \n",
    "  * Finding terms in the description will be done with SPaR.txt, \n",
    "  * If we'd simply check for string presene we might link, e.g., `light` to `roof light` "
   ]
  },
  {
   "cell_type": "code",
   "execution_count": 12,
   "id": "0127ba62",
   "metadata": {},
   "outputs": [],
   "source": [
    "def hyperlink_suggestion(query: str):\n",
    "    \"\"\"\n",
    "    :return exact_match_uids: List of (label, URI reference) tuples.\n",
    "    \"\"\"\n",
    "    json_result = check_if_string_exists_as_bsdd_label(query)\n",
    "    parsed_result = parse_bsdd_api_response(json_result) if json_result else None\n",
    "    if parsed_result:\n",
    "        # let's keep it simple and check for exact matches only when searching bSDD\n",
    "        exact_match_uids = [(x['name'], x[\"uid\"]) for x in parsed_result if (x['name'].lower() == query.lower())]\n",
    "        return exact_match_uids\n",
    "    else:\n",
    "        return []"
   ]
  },
  {
   "cell_type": "code",
   "execution_count": 13,
   "id": "eaa0e6e9",
   "metadata": {},
   "outputs": [
    {
     "data": {
      "text/plain": [
       "[('Window',\n",
       "  'https://identifier.buildingsmart.org/uri/molio/cciconstruction-1.0/class/L-QQA'),\n",
       " ('Window',\n",
       "  'https://identifier.buildingsmart.org/uri/BBRI/BBRI-0.3/class/Window'),\n",
       " ('Window', 'https://identifier.buildingsmart.org/uri/bw/BW-0.1/class/Window'),\n",
       " ('Window',\n",
       "  'https://identifier.buildingsmart.org/uri/acca/ACCAtest-0.1/class/L-QQA')]"
      ]
     },
     "execution_count": 13,
     "metadata": {},
     "output_type": "execute_result"
    }
   ],
   "source": [
    "hyperlink_suggestion(\"window\")"
   ]
  },
  {
   "cell_type": "markdown",
   "id": "0e761600",
   "metadata": {},
   "source": [
    "Prepare SPaR.txt again"
   ]
  },
  {
   "cell_type": "code",
   "execution_count": 14,
   "id": "d797c4f8",
   "metadata": {},
   "outputs": [],
   "source": [
    "# download SPaR.txt if required\n",
    "from pathlib import Path\n",
    "spartxt_path = Path(\"SPaR.txt/\")\n",
    "if not spartxt_path.exists():\n",
    "    !git clone https://github.com/rubenkruiper/SPaR.txt.git"
   ]
  },
  {
   "cell_type": "code",
   "execution_count": 18,
   "id": "7df15b4e",
   "metadata": {},
   "outputs": [
    {
     "name": "stdout",
     "output_type": "stream",
     "text": [
      "SPaR_API\r\n"
     ]
    }
   ],
   "source": [
    "try: \n",
    "    ### Start our `SPaR_API` container if it exists\n",
    "    !docker start SPaR_API\n",
    "except:\n",
    "    ### Else, set up the `SPaR_API` container\n",
    "    # build the SPaR.txt image, call it `spar`\n",
    "    !docker build -t spar SPaR.txt/.\n",
    "    # Run the image called `spar` in a container that we will call `SPaR_API`, with the API port at localhost:8501\n",
    "    # NOTE: this will train a SPaR.txt model locally, which takes about 20 minutes on a CPU \n",
    "    !docker run --name SPaR_API -p 8501:8501 spar"
   ]
  },
  {
   "cell_type": "code",
   "execution_count": 19,
   "id": "a21f0d1f",
   "metadata": {},
   "outputs": [],
   "source": [
    "# Some basic cleaning for the entire set of extracted objects\n",
    "regex_filter = cleaning_utils.RegexFilter()\n",
    "def basic_cleaning(to_be_cleaned):\n",
    "    # some basic cleaning steps\n",
    "    _, regex_cleaned  = regex_filter.run_filter(to_be_cleaned) # _ would be the list of terms removed by our regex filters\n",
    "    basic_cleaned = cleaning_utils.custom_cleaning_rules(regex_cleaned)\n",
    "    determiners_removed = [cleaning_utils.remove_determiners(t) for t in basic_cleaned]\n",
    "    cleaned_terms = [t for t in determiners_removed if t]\n",
    "    cleaned_counter = Counter(cleaned_terms)\n",
    "    return cleaned_terms, cleaned_counter"
   ]
  },
  {
   "cell_type": "code",
   "execution_count": 21,
   "id": "3ddb6c8f",
   "metadata": {},
   "outputs": [],
   "source": [
    "ner_api = \"http://localhost:8501/predict_objects/\"\n",
    "ner = NER(ner_api)"
   ]
  },
  {
   "cell_type": "code",
   "execution_count": 22,
   "id": "232bfaa6",
   "metadata": {},
   "outputs": [
    {
     "data": {
      "text/plain": [
       "['Thermoplastic materials',\n",
       " 'ceilings',\n",
       " 'rooflights',\n",
       " 'lighting diffusers',\n",
       " 'a hazard',\n",
       " 'a fire']"
      ]
     },
     "execution_count": 22,
     "metadata": {},
     "output_type": "execute_result"
    }
   ],
   "source": [
    "example = \"Thermoplastic materials in ceilings, rooflights and lighting diffusers provide a significant hazard in a fire.\"\n",
    "ner.process_text(example)"
   ]
  },
  {
   "cell_type": "markdown",
   "id": "a7498ebc",
   "metadata": {},
   "source": [
    "Example parsing of some descriptions for the new terms that are being added to bSDD."
   ]
  },
  {
   "cell_type": "code",
   "execution_count": 26,
   "id": "2ce9efa0",
   "metadata": {},
   "outputs": [],
   "source": [
    "hyperlinks_per_row = []\n",
    "for uid, reference, term, description in new_rows[-3:]:\n",
    "    suggested_hyperlinks =  []\n",
    "    # note that the uid, reference, etc. are URIreference and or RDF literals\n",
    "    ner_objects, _ = basic_cleaning(ner.process_text(description.toPython()))\n",
    "    unique_ner = list(set(ner_objects))\n",
    "    for term_with_potential_hyperlink in unique_ner:\n",
    "        suggested_hyperlinks += hyperlink_suggestion(term_with_potential_hyperlink)\n",
    "        \n",
    "    hyperlinks_per_row.append(suggested_hyperlinks)\n",
    "        "
   ]
  },
  {
   "cell_type": "code",
   "execution_count": 27,
   "id": "53ae0a9f",
   "metadata": {},
   "outputs": [
    {
     "name": "stdout",
     "output_type": "stream",
     "text": [
      "Zone of Aeration >> The zone above the water table. Water in the zone of aeration does not flow into a well. \n",
      "('Zone', 'https://identifier.buildingsmart.org/uri/dtc/dtdl-1/class/Zone')\n",
      "('ZONE', 'https://identifier.buildingsmart.org/uri/bimdata/bimdata-1.0/class/BDC69322')\n",
      "('Water', 'https://identifier.buildingsmart.org/uri/bs-agri/fruitvegs-1.1/mat/water')\n",
      "('Water', 'https://identifier.buildingsmart.org/uri/v5/fruitvegs-1.0/mat/water')\n",
      "('Water', 'https://identifier.buildingsmart.org/uri/v5/fruitvegs-v5-5.0/mat/water')\n",
      "('Water', 'https://identifier.buildingsmart.org/uri/bs-agri/fruitvegs-1.0/mat/water')\n",
      "-----\n",
      "Zone of Saturation >> The zone in which the functional permeable rocks are saturated with water under hydrostatic pressure. \n",
      "('Water', 'https://identifier.buildingsmart.org/uri/bs-agri/fruitvegs-1.1/mat/water')\n",
      "('Water', 'https://identifier.buildingsmart.org/uri/v5/fruitvegs-1.0/mat/water')\n",
      "('Water', 'https://identifier.buildingsmart.org/uri/v5/fruitvegs-v5-5.0/mat/water')\n",
      "('Water', 'https://identifier.buildingsmart.org/uri/bs-agri/fruitvegs-1.0/mat/water')\n",
      "('Zone', 'https://identifier.buildingsmart.org/uri/dtc/dtdl-1/class/Zone')\n",
      "('ZONE', 'https://identifier.buildingsmart.org/uri/bimdata/bimdata-1.0/class/BDC69322')\n",
      "-----\n",
      "Zoning >> The division of an area into districts and the public regulation of the character and intensity of use of the land and improvements thereon. \n",
      "('Land', 'https://identifier.buildingsmart.org/uri/gsa/gsaspace-23/class/LND')\n",
      "-----\n"
     ]
    }
   ],
   "source": [
    "for new_row, hyperlinks in zip(new_rows[-3:], hyperlinks_per_row[-3:]):\n",
    "    label = new_row[-2].toPython()\n",
    "    description = new_row[-1].toPython()\n",
    "    print(f\"{label} >> {description}\")\n",
    "    [print(h) for h in hyperlinks]\n",
    "    print(\"-----\")"
   ]
  },
  {
   "cell_type": "markdown",
   "id": "7e4e604d",
   "metadata": {},
   "source": [
    "#### 2. using semantic similarity based on node+description, linking to nodes in our bSDD graph\n",
    "This section contains example code to suggest semantic similarity relations between:\n",
    "1. new terms (expecting description) that are being added\n",
    "2. existing terms (those that are English and have a descriptions) in our bSDD .csv file"
   ]
  },
  {
   "cell_type": "code",
   "execution_count": 28,
   "id": "8e8c78e2",
   "metadata": {},
   "outputs": [
    {
     "data": {
      "text/html": [
       "<div>\n",
       "<style scoped>\n",
       "    .dataframe tbody tr th:only-of-type {\n",
       "        vertical-align: middle;\n",
       "    }\n",
       "\n",
       "    .dataframe tbody tr th {\n",
       "        vertical-align: top;\n",
       "    }\n",
       "\n",
       "    .dataframe thead th {\n",
       "        text-align: right;\n",
       "    }\n",
       "</style>\n",
       "<table border=\"1\" class=\"dataframe\">\n",
       "  <thead>\n",
       "    <tr style=\"text-align: right;\">\n",
       "      <th></th>\n",
       "      <th>Unnamed: 0.1</th>\n",
       "      <th>Unnamed: 0</th>\n",
       "      <th>subject</th>\n",
       "      <th>name</th>\n",
       "      <th>uid</th>\n",
       "      <th>description</th>\n",
       "      <th>description_NER</th>\n",
       "    </tr>\n",
       "  </thead>\n",
       "  <tbody>\n",
       "    <tr>\n",
       "      <th>0</th>\n",
       "      <td>1</td>\n",
       "      <td>1</td>\n",
       "      <td>https://identifier.buildingsmart.org/uri/FTIA/...</td>\n",
       "      <td>Additional details</td>\n",
       "      <td>AdditionalDetails</td>\n",
       "      <td>E.g. additional information related to install...</td>\n",
       "      <td>information, installation</td>\n",
       "    </tr>\n",
       "    <tr>\n",
       "      <th>1</th>\n",
       "      <td>2</td>\n",
       "      <td>2</td>\n",
       "      <td>https://identifier.buildingsmart.org/uri/FTIA/...</td>\n",
       "      <td>Post height</td>\n",
       "      <td>PostHeight</td>\n",
       "      <td>Height of the post in millimeters if sign has ...</td>\n",
       "      <td>Height, millimeters, sign</td>\n",
       "    </tr>\n",
       "    <tr>\n",
       "      <th>2</th>\n",
       "      <td>3</td>\n",
       "      <td>3</td>\n",
       "      <td>https://identifier.buildingsmart.org/uri/FTIA/...</td>\n",
       "      <td>Installation direction</td>\n",
       "      <td>InstallationDirection</td>\n",
       "      <td>Installation direction of the sign</td>\n",
       "      <td>sign</td>\n",
       "    </tr>\n",
       "    <tr>\n",
       "      <th>3</th>\n",
       "      <td>4</td>\n",
       "      <td>4</td>\n",
       "      <td>https://identifier.buildingsmart.org/uri/FTIA/...</td>\n",
       "      <td>Route number</td>\n",
       "      <td>RouteNumber</td>\n",
       "      <td>The route number on which the object is located</td>\n",
       "      <td>object</td>\n",
       "    </tr>\n",
       "    <tr>\n",
       "      <th>4</th>\n",
       "      <td>5</td>\n",
       "      <td>5</td>\n",
       "      <td>https://identifier.buildingsmart.org/uri/FTIA/...</td>\n",
       "      <td>Operating centre district</td>\n",
       "      <td>OperatingCentreDistrict</td>\n",
       "      <td>The operating centre district on which the obj...</td>\n",
       "      <td>object</td>\n",
       "    </tr>\n",
       "    <tr>\n",
       "      <th>...</th>\n",
       "      <td>...</td>\n",
       "      <td>...</td>\n",
       "      <td>...</td>\n",
       "      <td>...</td>\n",
       "      <td>...</td>\n",
       "      <td>...</td>\n",
       "      <td>...</td>\n",
       "    </tr>\n",
       "    <tr>\n",
       "      <th>10304</th>\n",
       "      <td>12510</td>\n",
       "      <td>27220</td>\n",
       "      <td>https://identifier.buildingsmart.org/uri/v5/fr...</td>\n",
       "      <td>Height</td>\n",
       "      <td>height</td>\n",
       "      <td>The height of an apple</td>\n",
       "      <td>height</td>\n",
       "    </tr>\n",
       "    <tr>\n",
       "      <th>10305</th>\n",
       "      <td>12512</td>\n",
       "      <td>27225</td>\n",
       "      <td>https://identifier.buildingsmart.org/uri/v5/fr...</td>\n",
       "      <td>Color</td>\n",
       "      <td>color</td>\n",
       "      <td>The color of a tomato</td>\n",
       "      <td>color</td>\n",
       "    </tr>\n",
       "    <tr>\n",
       "      <th>10306</th>\n",
       "      <td>12513</td>\n",
       "      <td>27226</td>\n",
       "      <td>https://identifier.buildingsmart.org/uri/v5/fr...</td>\n",
       "      <td>Height</td>\n",
       "      <td>height</td>\n",
       "      <td>The height of a Granny Smith</td>\n",
       "      <td>height</td>\n",
       "    </tr>\n",
       "    <tr>\n",
       "      <th>10307</th>\n",
       "      <td>12514</td>\n",
       "      <td>27227</td>\n",
       "      <td>https://identifier.buildingsmart.org/uri/v5/fr...</td>\n",
       "      <td>Color</td>\n",
       "      <td>color</td>\n",
       "      <td>The color of a Granny Smith</td>\n",
       "      <td>color</td>\n",
       "    </tr>\n",
       "    <tr>\n",
       "      <th>10308</th>\n",
       "      <td>12515</td>\n",
       "      <td>27228</td>\n",
       "      <td>https://identifier.buildingsmart.org/uri/v5/fr...</td>\n",
       "      <td>Height</td>\n",
       "      <td>height</td>\n",
       "      <td>The height of an apple</td>\n",
       "      <td>height</td>\n",
       "    </tr>\n",
       "  </tbody>\n",
       "</table>\n",
       "<p>10309 rows × 7 columns</p>\n",
       "</div>"
      ],
      "text/plain": [
       "       Unnamed: 0.1  Unnamed: 0  \\\n",
       "0                 1           1   \n",
       "1                 2           2   \n",
       "2                 3           3   \n",
       "3                 4           4   \n",
       "4                 5           5   \n",
       "...             ...         ...   \n",
       "10304         12510       27220   \n",
       "10305         12512       27225   \n",
       "10306         12513       27226   \n",
       "10307         12514       27227   \n",
       "10308         12515       27228   \n",
       "\n",
       "                                                 subject  \\\n",
       "0      https://identifier.buildingsmart.org/uri/FTIA/...   \n",
       "1      https://identifier.buildingsmart.org/uri/FTIA/...   \n",
       "2      https://identifier.buildingsmart.org/uri/FTIA/...   \n",
       "3      https://identifier.buildingsmart.org/uri/FTIA/...   \n",
       "4      https://identifier.buildingsmart.org/uri/FTIA/...   \n",
       "...                                                  ...   \n",
       "10304  https://identifier.buildingsmart.org/uri/v5/fr...   \n",
       "10305  https://identifier.buildingsmart.org/uri/v5/fr...   \n",
       "10306  https://identifier.buildingsmart.org/uri/v5/fr...   \n",
       "10307  https://identifier.buildingsmart.org/uri/v5/fr...   \n",
       "10308  https://identifier.buildingsmart.org/uri/v5/fr...   \n",
       "\n",
       "                             name                      uid  \\\n",
       "0              Additional details        AdditionalDetails   \n",
       "1                     Post height               PostHeight   \n",
       "2          Installation direction    InstallationDirection   \n",
       "3                    Route number              RouteNumber   \n",
       "4      Operating centre district   OperatingCentreDistrict   \n",
       "...                           ...                      ...   \n",
       "10304                      Height                   height   \n",
       "10305                       Color                    color   \n",
       "10306                      Height                   height   \n",
       "10307                       Color                    color   \n",
       "10308                      Height                   height   \n",
       "\n",
       "                                             description  \\\n",
       "0      E.g. additional information related to install...   \n",
       "1      Height of the post in millimeters if sign has ...   \n",
       "2                     Installation direction of the sign   \n",
       "3        The route number on which the object is located   \n",
       "4      The operating centre district on which the obj...   \n",
       "...                                                  ...   \n",
       "10304                             The height of an apple   \n",
       "10305                              The color of a tomato   \n",
       "10306                       The height of a Granny Smith   \n",
       "10307                        The color of a Granny Smith   \n",
       "10308                             The height of an apple   \n",
       "\n",
       "                 description_NER  \n",
       "0      information, installation  \n",
       "1      Height, millimeters, sign  \n",
       "2                           sign  \n",
       "3                         object  \n",
       "4                         object  \n",
       "...                          ...  \n",
       "10304                     height  \n",
       "10305                      color  \n",
       "10306                     height  \n",
       "10307                      color  \n",
       "10308                     height  \n",
       "\n",
       "[10309 rows x 7 columns]"
      ]
     },
     "execution_count": 28,
     "metadata": {},
     "output_type": "execute_result"
    }
   ],
   "source": [
    "# our English, processed csv file from before\n",
    "graph_input_csv = Path(\"data\", \"bsdd_graph_input.csv\")\n",
    "bsdd_df = pd.read_csv(graph_input_csv)\n",
    "bsdd_df"
   ]
  },
  {
   "cell_type": "code",
   "execution_count": 29,
   "id": "c734db53",
   "metadata": {},
   "outputs": [
    {
     "name": "stdout",
     "output_type": "stream",
     "text": [
      "Number of unique inputs we'll consider: 2923\n"
     ]
    }
   ],
   "source": [
    "# still loads of duplicate terms in the csv\n",
    "bsdd_concatenations = list(set([n.strip() + ' ' + d.strip() for n, d in zip(bsdd_df.name, bsdd_df.description) if (n and d) and (type(n) == str and type(d) == str)]))\n",
    "# show some examples\n",
    "print(f\"Number of unique inputs we'll consider: {len(bsdd_concatenations)}\")"
   ]
  },
  {
   "cell_type": "code",
   "execution_count": 30,
   "id": "9a05eb65",
   "metadata": {},
   "outputs": [
    {
     "data": {
      "text/plain": [
       "'Number of sem-sim pairs to compute 10,408,803'"
      ]
     },
     "execution_count": 30,
     "metadata": {},
     "output_type": "execute_result"
    }
   ],
   "source": [
    "max_num_combinations = len(new_rows) * len(bsdd_concatenations)\n",
    "'Number of sem-sim pairs to compute {0:,}'.format(max_num_combinations)"
   ]
  },
  {
   "cell_type": "markdown",
   "id": "d5bea696",
   "metadata": {},
   "source": [
    "* Prepare the bSDD embeddings to compute semantic similarity \n",
    "* Assumption is that for the new terms, you'd want to embed on the fly and compare"
   ]
  },
  {
   "cell_type": "code",
   "execution_count": 31,
   "id": "bb8c9e83",
   "metadata": {},
   "outputs": [],
   "source": [
    "batch_size = 32\n",
    "show_progress_bar = True\n",
    "model = SentenceTransformer('sentence-transformers/all-mpnet-base-v2')\n",
    "embeddings_file_name = Path(\"data\", \"filtered_bsdd_embeddings.pkl\")"
   ]
  },
  {
   "cell_type": "code",
   "execution_count": 32,
   "id": "19628391",
   "metadata": {},
   "outputs": [],
   "source": [
    "if not embeddings_file_name.exists(): \n",
    "    # compute the embeddings for all the input strings (name + description)\n",
    "    bsdd_embeddings = model.encode(bsdd_concatenations, \n",
    "                              show_progress_bar=show_progress_bar, \n",
    "                              batch_size=batch_size, \n",
    "                              convert_to_tensor=True)\n",
    "    pickle.dump(bsdd_embeddings, open(embeddings_file_name, 'wb'))\n",
    "else:\n",
    "    bsdd_embeddings = pickle.load(open(embeddings_file_name, 'rb'))"
   ]
  },
  {
   "cell_type": "code",
   "execution_count": 33,
   "id": "6660856c",
   "metadata": {},
   "outputs": [
    {
     "data": {
      "text/plain": [
       "torch.Tensor"
      ]
     },
     "execution_count": 33,
     "metadata": {},
     "output_type": "execute_result"
    }
   ],
   "source": [
    "type(bsdd_embeddings)"
   ]
  },
  {
   "cell_type": "code",
   "execution_count": 34,
   "id": "2ae7a365",
   "metadata": {},
   "outputs": [],
   "source": [
    "def grab_sem_sim_terms(new_embedding: torch.tensor, \n",
    "                       existing_embeddings: torch.tensor):\n",
    "    # compute 1 semantically similar term, based on cosine similarity to bsdd embeddings\n",
    "    cos_score = pytorch_cos_sim(new_embedding, existing_embeddings)\n",
    "    cos_value, cos_index = torch.topk(cos_score, 5, 1)\n",
    "    indices_list = cos_index.flatten().tolist()\n",
    "    value_list = cos_value.flatten().tolist()\n",
    "#     indices_list = [i for i in indices_list if to_be_predicted[i] != to_be_predicted[idx]] # avoid self-comparison\n",
    "    \n",
    "    # HEURISTIC: We check the difference between the semantic similar of the most similar, \n",
    "    # and the least similar in our top k terms. If this difference is small, then we assume\n",
    "    # that the representations for these terms+definitions were relatively weak.\n",
    "    diff = value_list[0] - value_list[-1]\n",
    "    if diff > 0.06:\n",
    "        # we only consider the most similar node for now\n",
    "        most_similar_node_idx = indices_list[0]\n",
    "        return most_similar_node_idx\n",
    "    else:\n",
    "        return None"
   ]
  },
  {
   "cell_type": "code",
   "execution_count": 35,
   "id": "c2b92ac7",
   "metadata": {},
   "outputs": [],
   "source": [
    "EX = Namespace(\"http://ex.ample.org/span/\")"
   ]
  },
  {
   "cell_type": "code",
   "execution_count": 36,
   "id": "dfaafb5c",
   "metadata": {},
   "outputs": [
    {
     "name": "stderr",
     "output_type": "stream",
     "text": [
      "100%|█████████████████████████████████████████████████████████████████████████████████████████████████████████████████████████████████████████████████████████████████████████| 3/3 [00:01<00:00,  2.12it/s]\n"
     ]
    }
   ],
   "source": [
    "example_triples = []\n",
    "# Only computing the first 3 examples for now\n",
    "for row in tqdm(new_rows[:3]):\n",
    "    uid, reference, label, description = row\n",
    "    new_c = label.toPython().strip() + \" \" + description.toPython().strip()\n",
    "    \n",
    "    new_c_embedding = model.encode(new_c, \n",
    "                              show_progress_bar=False, \n",
    "                              batch_size=batch_size, \n",
    "                              convert_to_tensor=True)\n",
    "    \n",
    "    idx = grab_sem_sim_terms(new_c_embedding, bsdd_embeddings)\n",
    "    similar_concatenation = \"\" if not idx else bsdd_concatenations[idx]\n",
    "    \n",
    "    suggestions = [r for i, r in bsdd_df.iterrows() if (similar_concatenation.startswith(r[\"name\"]) and \\\n",
    "                                                     r[\"description\"] in similar_concatenation)]\n",
    "    \n",
    "    new_triples = []\n",
    "    for bsdd_row in suggestions:\n",
    "        new_triples.append((uid, EX.semanticallySimilar, bsdd_row.subject)) \n",
    "    \n",
    "    example_triples.append(new_triples)    "
   ]
  },
  {
   "cell_type": "code",
   "execution_count": 37,
   "id": "9ad2d88f",
   "metadata": {},
   "outputs": [
    {
     "name": "stdout",
     "output_type": "stream",
     "text": [
      "\"A\" Car >> A motive-powered unit so designed that it may be used as the controlling unit of a multiple-unit train and that has adequate visibility in a forward direction, as well as a cab and equipment, to permit full control and observation of the propulsion power and brake applications for the train.\n",
      "https://identifier.buildingsmart.org/uri/buildingsmart/ifc-4.3/prop/CloggingIndicator\n",
      "https://identifier.buildingsmart.org/uri/buildingsmart/ifc-4.3/class/IfcFilterCOMPRESSEDAIRFILTER/CloggingIndicator\n",
      "-----\n",
      "\"B\" Car >> A motive-powered unit designed primarily for use in combination with an “A” unit for the purpose of increasing power, but not equipped for use as the leading unit for full observation of the propulsion power and brake applications for the train; it is normally equipped with a single control station to permit independent movement of the unit itself. \n",
      "https://identifier.buildingsmart.org/uri/buildingsmart/ifc-4.3/prop/SelfClosing\n",
      "https://identifier.buildingsmart.org/uri/buildingsmart/ifc-4.3/class/IfcDoor/SelfClosing\n",
      "https://identifier.buildingsmart.org/uri/efalbhm/arge-0.1/class/Door/SelfClosing\n",
      "-----\n",
      "\"C\" Car >>  A self-propelled rail car that does not have a control cab (may also refer to a double-ended car). \n",
      "-----\n"
     ]
    }
   ],
   "source": [
    "for new_row, similar in zip(new_rows[:3], example_triples[:3]):\n",
    "    new_label = new_row[-2].toPython()\n",
    "    new_description = new_row[-1].toPython()\n",
    "    print(f\"{new_label} >> {new_description}\")\n",
    "    for triple in similar:\n",
    "        print(triple[-1])\n",
    "    print(\"-----\")"
   ]
  },
  {
   "cell_type": "markdown",
   "id": "5e29c7d4",
   "metadata": {},
   "source": [
    "#### 3. using description overlap, relying on the objects occuring in our bSDD graph descriptions\n",
    "* We'll load the previously computed bsdd graph from the .ttl file\n"
   ]
  },
  {
   "cell_type": "code",
   "execution_count": 38,
   "id": "abb439f1",
   "metadata": {},
   "outputs": [
    {
     "data": {
      "text/plain": [
       "<Graph identifier=N0d5f927b044b4fac809c33d7df633c40 (<class 'rdflib.graph.Graph'>)>"
      ]
     },
     "execution_count": 38,
     "metadata": {},
     "output_type": "execute_result"
    }
   ],
   "source": [
    "bsdd_graph = Graph()\n",
    "bsdd_graph_path = Path(\"data\", \"graph_output\", \"test_graph.ttl\")\n",
    "bsdd_graph.parse(bsdd_graph_path, format='ttl')"
   ]
  },
  {
   "cell_type": "code",
   "execution_count": 43,
   "id": "103dc08e",
   "metadata": {},
   "outputs": [],
   "source": [
    "span_query = \"\"\"\n",
    "prefix rdfs: <http://www.w3.org/2000/01/rdf-schema#>\n",
    "\n",
    "SELECT DISTINCT ?span_label WHERE{\n",
    "    ?s rdfs:label ?span_label .\n",
    "} \n",
    "\"\"\"\n",
    "all_spans = [span[0].toPython() for span in bsdd_graph.query(span_query)]"
   ]
  },
  {
   "cell_type": "code",
   "execution_count": 45,
   "id": "7256b3c5",
   "metadata": {},
   "outputs": [
    {
     "data": {
      "text/plain": [
       "['Count',\n",
       " 'centre of gravity',\n",
       " 'stiffener',\n",
       " 'test dome',\n",
       " 'circular transition change',\n",
       " 'conditions',\n",
       " 'device hardware',\n",
       " 'agreement',\n",
       " 'cooled beam',\n",
       " 'vehicles']"
      ]
     },
     "execution_count": 45,
     "metadata": {},
     "output_type": "execute_result"
    }
   ],
   "source": [
    "# some example spans that we have in the graph\n",
    "random.sample(all_spans, 10)"
   ]
  },
  {
   "cell_type": "code",
   "execution_count": null,
   "id": "65384600",
   "metadata": {},
   "outputs": [],
   "source": [
    "# check if any of these spans occur verbatim in the description\n",
    "# if they do, add triple between the UID and the span in the graph"
   ]
  },
  {
   "cell_type": "code",
   "execution_count": null,
   "id": "3ebd69bc",
   "metadata": {},
   "outputs": [],
   "source": []
  },
  {
   "cell_type": "code",
   "execution_count": null,
   "id": "03f51865",
   "metadata": {},
   "outputs": [],
   "source": [
    "# GraphDB SPARQL QUERY to find potentially related classes (based on spans found in their descriptions)\n",
    "\"\"\"\n",
    "prefix rdfs: <http://www.w3.org/2000/01/rdf-schema#>\n",
    "prefix bsdd:<http://bsdd.buildingsmart.org/def#>\n",
    "prefix skos: <http://www.w3.org/2004/02/skos/core#>\n",
    "prefix ex: <http://ex.ample.org/span/>\n",
    "\n",
    "SELECT DISTINCT ?subject ?object ?subj_def ?obj_def (COUNT(DISTINCT ?span_in_description) AS ?shared_def_terms) (SUM(?generic) as ?total_g)\n",
    "WHERE {\n",
    "    ?subject_node ex:associatedSpan ?span_in_description ;\n",
    "                  skos:definition ?subj_def ;\n",
    "                  skos:prefLabel ?subject .\n",
    "    \n",
    "    ?object_node ex:associatedSpan ?span_in_description ;\n",
    "                 skos:definition ?obj_def;\n",
    "                 skos:prefLabel ?object .\n",
    "    \n",
    "    FILTER (str(?subject) != str(?object))\n",
    "    # ensure same ordering of subject object so we don't get reverse triples\n",
    "    FILTER (STR(?object) < STR(?subject))\n",
    "    {   \n",
    "        # sub query to check how generic the span_in_description is (number of edges)\n",
    "        SELECT DISTINCT ?span_in_description (COUNT(?defined_node) AS ?generic) \n",
    "        WHERE{\n",
    "            ?span_in_description  ^ex:associatedSpan ?defined_node .\n",
    "        } \n",
    "        GROUP BY ?span_in_description\n",
    "        # each span_in_description should be linked to less than X edges, otherwise too generic\n",
    "        HAVING (?generic < 20)  \n",
    "    }\n",
    "}\n",
    "GROUP BY ?subject ?object ?subj_def ?obj_def\n",
    "# at least 3 shared terms, that together have more than 10 edges and less than 300 in total\n",
    "HAVING (?shared_def_terms > 2 && ?total_g > 5 && ?total_g < 300)\n",
    "\"\"\""
   ]
  }
 ],
 "metadata": {
  "kernelspec": {
   "display_name": "Python 3 (ipykernel)",
   "language": "python",
   "name": "python3"
  },
  "language_info": {
   "codemirror_mode": {
    "name": "ipython",
    "version": 3
   },
   "file_extension": ".py",
   "mimetype": "text/x-python",
   "name": "python",
   "nbconvert_exporter": "python",
   "pygments_lexer": "ipython3",
   "version": "3.9.16"
  }
 },
 "nbformat": 4,
 "nbformat_minor": 5
}
