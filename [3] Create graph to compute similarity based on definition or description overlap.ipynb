{
 "cells": [
  {
   "cell_type": "code",
   "execution_count": 4,
   "id": "843333e7",
   "metadata": {},
   "outputs": [],
   "source": [
    "from typing import Union, List, Any, Optional, Dict\n",
    "\n",
    "import os\n",
    "import re\n",
    "import time\n",
    "import json\n",
    "import glob\n",
    "import pickle\n",
    "import random\n",
    "import urllib\n",
    "import requests\n",
    "\n",
    "import pandas as pd\n",
    "\n",
    "from bs4 import BeautifulSoup\n",
    "from tqdm import tqdm\n",
    "from pathlib import Path\n",
    "from textblob import TextBlob\n",
    "from collections import Counter\n",
    "\n",
    "from rdflib import URIRef, BNode, Literal, Namespace, Graph\n",
    "from rdflib.namespace import XSD, RDF, RDFS, SKOS, NamespaceManager\n",
    "\n",
    "# from utilities import cleaning_utils"
   ]
  },
  {
   "cell_type": "markdown",
   "id": "fa8d8a67",
   "metadata": {},
   "source": [
    "### Create a quick RDF graph\n",
    "* Using dummy namespaces and predicates"
   ]
  },
  {
   "cell_type": "code",
   "execution_count": 9,
   "id": "dcdca5b6",
   "metadata": {},
   "outputs": [],
   "source": [
    "### input for graph\n",
    "graph_input_csv = Path(\"data\", \"bsdd_graph_input.csv\")\n",
    "bsdd_df = pd.read_csv(graph_input_csv)"
   ]
  },
  {
   "cell_type": "code",
   "execution_count": 10,
   "id": "0f113bbc",
   "metadata": {},
   "outputs": [
    {
     "data": {
      "text/html": [
       "<div>\n",
       "<style scoped>\n",
       "    .dataframe tbody tr th:only-of-type {\n",
       "        vertical-align: middle;\n",
       "    }\n",
       "\n",
       "    .dataframe tbody tr th {\n",
       "        vertical-align: top;\n",
       "    }\n",
       "\n",
       "    .dataframe thead th {\n",
       "        text-align: right;\n",
       "    }\n",
       "</style>\n",
       "<table border=\"1\" class=\"dataframe\">\n",
       "  <thead>\n",
       "    <tr style=\"text-align: right;\">\n",
       "      <th></th>\n",
       "      <th>Unnamed: 0.1</th>\n",
       "      <th>Unnamed: 0</th>\n",
       "      <th>subject</th>\n",
       "      <th>name</th>\n",
       "      <th>uid</th>\n",
       "      <th>description</th>\n",
       "      <th>description_NER</th>\n",
       "    </tr>\n",
       "  </thead>\n",
       "  <tbody>\n",
       "    <tr>\n",
       "      <th>0</th>\n",
       "      <td>1</td>\n",
       "      <td>1</td>\n",
       "      <td>https://identifier.buildingsmart.org/uri/FTIA/...</td>\n",
       "      <td>Additional details</td>\n",
       "      <td>AdditionalDetails</td>\n",
       "      <td>E.g. additional information related to install...</td>\n",
       "      <td>information, installation</td>\n",
       "    </tr>\n",
       "    <tr>\n",
       "      <th>1</th>\n",
       "      <td>2</td>\n",
       "      <td>2</td>\n",
       "      <td>https://identifier.buildingsmart.org/uri/FTIA/...</td>\n",
       "      <td>Post height</td>\n",
       "      <td>PostHeight</td>\n",
       "      <td>Height of the post in millimeters if sign has ...</td>\n",
       "      <td>Height, millimeters, sign</td>\n",
       "    </tr>\n",
       "    <tr>\n",
       "      <th>2</th>\n",
       "      <td>3</td>\n",
       "      <td>3</td>\n",
       "      <td>https://identifier.buildingsmart.org/uri/FTIA/...</td>\n",
       "      <td>Installation direction</td>\n",
       "      <td>InstallationDirection</td>\n",
       "      <td>Installation direction of the sign</td>\n",
       "      <td>sign</td>\n",
       "    </tr>\n",
       "    <tr>\n",
       "      <th>3</th>\n",
       "      <td>4</td>\n",
       "      <td>4</td>\n",
       "      <td>https://identifier.buildingsmart.org/uri/FTIA/...</td>\n",
       "      <td>Route number</td>\n",
       "      <td>RouteNumber</td>\n",
       "      <td>The route number on which the object is located</td>\n",
       "      <td>object</td>\n",
       "    </tr>\n",
       "    <tr>\n",
       "      <th>4</th>\n",
       "      <td>5</td>\n",
       "      <td>5</td>\n",
       "      <td>https://identifier.buildingsmart.org/uri/FTIA/...</td>\n",
       "      <td>Operating centre district</td>\n",
       "      <td>OperatingCentreDistrict</td>\n",
       "      <td>The operating centre district on which the obj...</td>\n",
       "      <td>object</td>\n",
       "    </tr>\n",
       "    <tr>\n",
       "      <th>...</th>\n",
       "      <td>...</td>\n",
       "      <td>...</td>\n",
       "      <td>...</td>\n",
       "      <td>...</td>\n",
       "      <td>...</td>\n",
       "      <td>...</td>\n",
       "      <td>...</td>\n",
       "    </tr>\n",
       "    <tr>\n",
       "      <th>10304</th>\n",
       "      <td>12510</td>\n",
       "      <td>27220</td>\n",
       "      <td>https://identifier.buildingsmart.org/uri/v5/fr...</td>\n",
       "      <td>Height</td>\n",
       "      <td>height</td>\n",
       "      <td>The height of an apple</td>\n",
       "      <td>height</td>\n",
       "    </tr>\n",
       "    <tr>\n",
       "      <th>10305</th>\n",
       "      <td>12512</td>\n",
       "      <td>27225</td>\n",
       "      <td>https://identifier.buildingsmart.org/uri/v5/fr...</td>\n",
       "      <td>Color</td>\n",
       "      <td>color</td>\n",
       "      <td>The color of a tomato</td>\n",
       "      <td>color</td>\n",
       "    </tr>\n",
       "    <tr>\n",
       "      <th>10306</th>\n",
       "      <td>12513</td>\n",
       "      <td>27226</td>\n",
       "      <td>https://identifier.buildingsmart.org/uri/v5/fr...</td>\n",
       "      <td>Height</td>\n",
       "      <td>height</td>\n",
       "      <td>The height of a Granny Smith</td>\n",
       "      <td>height</td>\n",
       "    </tr>\n",
       "    <tr>\n",
       "      <th>10307</th>\n",
       "      <td>12514</td>\n",
       "      <td>27227</td>\n",
       "      <td>https://identifier.buildingsmart.org/uri/v5/fr...</td>\n",
       "      <td>Color</td>\n",
       "      <td>color</td>\n",
       "      <td>The color of a Granny Smith</td>\n",
       "      <td>color</td>\n",
       "    </tr>\n",
       "    <tr>\n",
       "      <th>10308</th>\n",
       "      <td>12515</td>\n",
       "      <td>27228</td>\n",
       "      <td>https://identifier.buildingsmart.org/uri/v5/fr...</td>\n",
       "      <td>Height</td>\n",
       "      <td>height</td>\n",
       "      <td>The height of an apple</td>\n",
       "      <td>height</td>\n",
       "    </tr>\n",
       "  </tbody>\n",
       "</table>\n",
       "<p>10309 rows × 7 columns</p>\n",
       "</div>"
      ],
      "text/plain": [
       "       Unnamed: 0.1  Unnamed: 0  \\\n",
       "0                 1           1   \n",
       "1                 2           2   \n",
       "2                 3           3   \n",
       "3                 4           4   \n",
       "4                 5           5   \n",
       "...             ...         ...   \n",
       "10304         12510       27220   \n",
       "10305         12512       27225   \n",
       "10306         12513       27226   \n",
       "10307         12514       27227   \n",
       "10308         12515       27228   \n",
       "\n",
       "                                                 subject  \\\n",
       "0      https://identifier.buildingsmart.org/uri/FTIA/...   \n",
       "1      https://identifier.buildingsmart.org/uri/FTIA/...   \n",
       "2      https://identifier.buildingsmart.org/uri/FTIA/...   \n",
       "3      https://identifier.buildingsmart.org/uri/FTIA/...   \n",
       "4      https://identifier.buildingsmart.org/uri/FTIA/...   \n",
       "...                                                  ...   \n",
       "10304  https://identifier.buildingsmart.org/uri/v5/fr...   \n",
       "10305  https://identifier.buildingsmart.org/uri/v5/fr...   \n",
       "10306  https://identifier.buildingsmart.org/uri/v5/fr...   \n",
       "10307  https://identifier.buildingsmart.org/uri/v5/fr...   \n",
       "10308  https://identifier.buildingsmart.org/uri/v5/fr...   \n",
       "\n",
       "                             name                      uid  \\\n",
       "0              Additional details        AdditionalDetails   \n",
       "1                     Post height               PostHeight   \n",
       "2          Installation direction    InstallationDirection   \n",
       "3                    Route number              RouteNumber   \n",
       "4      Operating centre district   OperatingCentreDistrict   \n",
       "...                           ...                      ...   \n",
       "10304                      Height                   height   \n",
       "10305                       Color                    color   \n",
       "10306                      Height                   height   \n",
       "10307                       Color                    color   \n",
       "10308                      Height                   height   \n",
       "\n",
       "                                             description  \\\n",
       "0      E.g. additional information related to install...   \n",
       "1      Height of the post in millimeters if sign has ...   \n",
       "2                     Installation direction of the sign   \n",
       "3        The route number on which the object is located   \n",
       "4      The operating centre district on which the obj...   \n",
       "...                                                  ...   \n",
       "10304                             The height of an apple   \n",
       "10305                              The color of a tomato   \n",
       "10306                       The height of a Granny Smith   \n",
       "10307                        The color of a Granny Smith   \n",
       "10308                             The height of an apple   \n",
       "\n",
       "                 description_NER  \n",
       "0      information, installation  \n",
       "1      Height, millimeters, sign  \n",
       "2                           sign  \n",
       "3                         object  \n",
       "4                         object  \n",
       "...                          ...  \n",
       "10304                     height  \n",
       "10305                      color  \n",
       "10306                     height  \n",
       "10307                      color  \n",
       "10308                     height  \n",
       "\n",
       "[10309 rows x 7 columns]"
      ]
     },
     "execution_count": 10,
     "metadata": {},
     "output_type": "execute_result"
    }
   ],
   "source": [
    "bsdd_df"
   ]
  },
  {
   "cell_type": "code",
   "execution_count": 12,
   "id": "1ccdf767",
   "metadata": {},
   "outputs": [
    {
     "data": {
      "text/plain": [
       "953"
      ]
     },
     "execution_count": 12,
     "metadata": {},
     "output_type": "execute_result"
    }
   ],
   "source": [
    "# Quickly grab all unique terms that we found in all of the descriptions\n",
    "unique_objects = []\n",
    "for string_or_list in bsdd_df.description_NER:\n",
    "    unique_objects += string_or_list.split(\", \")\n",
    "unique_objects = list(set(unique_objects))\n",
    "len(unique_objects)"
   ]
  },
  {
   "cell_type": "markdown",
   "id": "91808e65",
   "metadata": {},
   "source": [
    "Preparing the graph"
   ]
  },
  {
   "cell_type": "code",
   "execution_count": 2,
   "id": "8dbb0ce7",
   "metadata": {},
   "outputs": [],
   "source": [
    "graph_output_fp = Path.cwd().joinpath(\"data\", \"graph_output\")\n",
    "graph_output_fp.mkdir(parents=True, exist_ok=True) # create directory if it doesn't exist"
   ]
  },
  {
   "cell_type": "code",
   "execution_count": 14,
   "id": "ba14a147",
   "metadata": {},
   "outputs": [],
   "source": [
    "BSDD = Namespace(\"http://bsdd.buildingsmart.org/def#\") # https://identifier.buildingsmart.org/uri/\n",
    "EX = Namespace(\"http://ex.ample.org/span/\")"
   ]
  },
  {
   "cell_type": "code",
   "execution_count": 18,
   "id": "16b7cf25",
   "metadata": {},
   "outputs": [],
   "source": [
    "all_triples = []"
   ]
  },
  {
   "cell_type": "code",
   "execution_count": 19,
   "id": "a4f2ba16",
   "metadata": {},
   "outputs": [],
   "source": [
    "# Add all the unique objects the graph, within our example namespace\n",
    "for span in unique_objects:\n",
    "    span_uid = urllib.parse.quote(span)\n",
    "    object_triple = (EX[span_uid], RDFS.label,  Literal(span, lang='en'))\n",
    "    all_triples.append(object_triple)"
   ]
  },
  {
   "cell_type": "code",
   "execution_count": 20,
   "id": "515a4557",
   "metadata": {},
   "outputs": [],
   "source": [
    "# Add the objects from our .csv file and link to the span that occur in the descriptions\n",
    "uids = bsdd_df.subject\n",
    "bsdd_names = bsdd_df.name\n",
    "bsdd_descriptions = bsdd_df.description\n",
    "description_NER = bsdd_df.description_NER\n",
    "\n",
    "for uid, name, description, objects_str in zip(uids, bsdd_names, bsdd_descriptions, description_NER):\n",
    "    \n",
    "    name_triple = (URIRef(uid), SKOS.prefLabel,  Literal(name, lang='en'))\n",
    "    description_triple= (URIRef(uid), SKOS.definition,  Literal(description, lang='en'))\n",
    "    all_triples += [name_triple, description_triple]\n",
    "    \n",
    "    objects = objects_str.split(\", \")\n",
    "    for span in objects:\n",
    "        span_uid = urllib.parse.quote(span)\n",
    "        association_triple = (URIRef(uid), EX.associatedSpan, EX[span_uid])\n",
    "        all_triples.append(association_triple)"
   ]
  },
  {
   "cell_type": "code",
   "execution_count": 21,
   "id": "0aa4d032",
   "metadata": {},
   "outputs": [],
   "source": [
    "# Add all triples a new graph\n",
    "graph = Graph()\n",
    "issues = []\n",
    "for t in all_triples:\n",
    "    assert len(t) == 3\n",
    "    if t not in graph:\n",
    "        try:\n",
    "            graph.add(t)\n",
    "        except:\n",
    "            issues.append(f\"issue @ {t}\")\n",
    "            pass\n"
   ]
  },
  {
   "cell_type": "code",
   "execution_count": 22,
   "id": "87674358",
   "metadata": {},
   "outputs": [
    {
     "data": {
      "text/plain": [
       "0"
      ]
     },
     "execution_count": 22,
     "metadata": {},
     "output_type": "execute_result"
    }
   ],
   "source": [
    "len(issues)"
   ]
  },
  {
   "cell_type": "code",
   "execution_count": 23,
   "id": "29fa3f9f",
   "metadata": {},
   "outputs": [
    {
     "data": {
      "text/plain": [
       "[]"
      ]
     },
     "execution_count": 23,
     "metadata": {},
     "output_type": "execute_result"
    }
   ],
   "source": [
    "issues"
   ]
  },
  {
   "cell_type": "code",
   "execution_count": 24,
   "id": "07c1932d",
   "metadata": {},
   "outputs": [
    {
     "data": {
      "text/plain": [
       "<Graph identifier=N280b832b851c4f4599600c2e655ea942 (<class 'rdflib.graph.Graph'>)>"
      ]
     },
     "execution_count": 24,
     "metadata": {},
     "output_type": "execute_result"
    }
   ],
   "source": [
    "# save the graph\n",
    "graph.serialize(destination=graph_output_fp.joinpath(\"test_graph.ttl\"))"
   ]
  },
  {
   "cell_type": "code",
   "execution_count": 25,
   "id": "9f61eb8c",
   "metadata": {},
   "outputs": [
    {
     "data": {
      "text/plain": [
       "\"\\nprefix rdfs: <http://www.w3.org/2000/01/rdf-schema#>\\nprefix bsdd:<http://bsdd.buildingsmart.org/def#>\\nprefix skos: <http://www.w3.org/2004/02/skos/core#>\\nprefix ex: <http://ex.ample.org/span/>\\n\\nSELECT DISTINCT ?subject ?object ?subj_def ?obj_def (COUNT(?definition_node) AS ?shared_def_terms) (SUM(?generic) as ?total_g)\\nWHERE {\\n    ?subject_node ex:associatedSpan ?definition_node ;\\n                  skos:definition ?subj_def ;\\n                  skos:prefLabel ?subject .\\n    {   \\n        # sub query to check how generic the definition_node is (number of edges)\\n        SELECT DISTINCT ?definition_node (COUNT(?definition_node) AS ?generic) \\n        WHERE{\\n            ?definition_node  ^ex:associatedSpan ?defined_node .\\n        } \\n        GROUP BY ?definition_node\\n        # each span found in definitions should be linked to less than X edges, otherwise its too generic\\n        HAVING (?generic < 30)  \\n\\n    }\\n    ?object_node ex:associatedSpan ?definition_node ;\\n                 skos:definition ?obj_def;\\n                 skos:prefLabel ?object .\\n\\n    FILTER (str(?subject) != str(?object))\\n    # ensure same ordering of subject object so we don't get reverse triples\\n    FILTER (STR(?object) < STR(?subject))\\n}\\nGROUP BY ?subject ?object ?subj_def ?obj_def\\n# at least 3 shared terms, that together have more than 10 edges and less than 300 in total\\nHAVING (?shared_def_terms > 5 && ?total_g > 5 && ?total_g < 200)\\n\""
      ]
     },
     "execution_count": 25,
     "metadata": {},
     "output_type": "execute_result"
    }
   ],
   "source": [
    "# GraphDB SPARQL QUERY to find potentially related classes (based on spans found in their descriptions)\n",
    "\"\"\"\n",
    "prefix rdfs: <http://www.w3.org/2000/01/rdf-schema#>\n",
    "prefix bsdd:<http://bsdd.buildingsmart.org/def#>\n",
    "prefix skos: <http://www.w3.org/2004/02/skos/core#>\n",
    "prefix ex: <http://ex.ample.org/span/>\n",
    "\n",
    "SELECT DISTINCT ?subject ?object ?subj_def ?obj_def (COUNT(?definition_node) AS ?shared_def_terms) (SUM(?generic) as ?total_g)\n",
    "WHERE {\n",
    "    ?subject_node ex:associatedSpan ?definition_node ;\n",
    "                  skos:definition ?subj_def ;\n",
    "                  skos:prefLabel ?subject .\n",
    "    {   \n",
    "        # sub query to check how generic the definition_node is (number of edges)\n",
    "        SELECT DISTINCT ?definition_node (COUNT(?definition_node) AS ?generic) \n",
    "        WHERE{\n",
    "            ?definition_node  ^ex:associatedSpan ?defined_node .\n",
    "        } \n",
    "        GROUP BY ?definition_node\n",
    "        # each span found in definitions should be linked to less than X edges, otherwise its too generic\n",
    "        HAVING (?generic < 30)  \n",
    "\n",
    "    }\n",
    "    ?object_node ex:associatedSpan ?definition_node ;\n",
    "                 skos:definition ?obj_def;\n",
    "                 skos:prefLabel ?object .\n",
    "\n",
    "    FILTER (str(?subject) != str(?object))\n",
    "    # ensure same ordering of subject object so we don't get reverse triples\n",
    "    FILTER (STR(?object) < STR(?subject))\n",
    "}\n",
    "GROUP BY ?subject ?object ?subj_def ?obj_def\n",
    "# at least 3 shared terms, that together have more than 10 edges and less than 300 in total\n",
    "HAVING (?shared_def_terms > 5 && ?total_g > 5 && ?total_g < 200)\n",
    "\"\"\""
   ]
  },
  {
   "cell_type": "code",
   "execution_count": null,
   "id": "53ae0a9f",
   "metadata": {},
   "outputs": [],
   "source": []
  },
  {
   "cell_type": "code",
   "execution_count": null,
   "id": "fe4181f8",
   "metadata": {},
   "outputs": [],
   "source": []
  },
  {
   "cell_type": "code",
   "execution_count": null,
   "id": "5d9e2818",
   "metadata": {},
   "outputs": [],
   "source": []
  }
 ],
 "metadata": {
  "kernelspec": {
   "display_name": "Python 3 (ipykernel)",
   "language": "python",
   "name": "python3"
  },
  "language_info": {
   "codemirror_mode": {
    "name": "ipython",
    "version": 3
   },
   "file_extension": ".py",
   "mimetype": "text/x-python",
   "name": "python",
   "nbconvert_exporter": "python",
   "pygments_lexer": "ipython3",
   "version": "3.9.16"
  }
 },
 "nbformat": 4,
 "nbformat_minor": 5
}
