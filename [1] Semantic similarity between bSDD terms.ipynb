{
 "cells": [
  {
   "cell_type": "code",
   "execution_count": 49,
   "id": "d8edfa73",
   "metadata": {},
   "outputs": [],
   "source": [
    "import json\n",
    "import torch\n",
    "import pickle\n",
    "import random\n",
    "import requests\n",
    "import sentence_transformers\n",
    "\n",
    "import numpy as np\n",
    "import pandas as pd\n",
    "import torch.nn as nn\n",
    "\n",
    "from tqdm import tqdm\n",
    "from pprint import pprint\n",
    "from pathlib import Path\n",
    "from sklearn import metrics\n",
    "from itertools import combinations\n",
    "from sentence_transformers import SentenceTransformer\n",
    "from sentence_transformers.util import pytorch_cos_sim"
   ]
  },
  {
   "cell_type": "markdown",
   "id": "707dc946",
   "metadata": {},
   "source": [
    "* We'll be computing the semantic similarity between the terms that we find in our local version of bSDD terms\n",
    "  * Our bSDD terms can be found in `bsdd_descriptions.csv`\n",
    "  * Alternatively, for grabbing only subset of the bSDD terms see the graphQL query at the end of this notebook"
   ]
  },
  {
   "cell_type": "markdown",
   "id": "4c9d375e",
   "metadata": {},
   "source": [
    "### Grab bSDD terms and definitions"
   ]
  },
  {
   "cell_type": "code",
   "execution_count": 2,
   "id": "17c73b32",
   "metadata": {},
   "outputs": [],
   "source": [
    "bsdd_df = pd.read_csv(\"bsdd_descriptions.csv\")"
   ]
  },
  {
   "cell_type": "code",
   "execution_count": 5,
   "id": "e85ac2d3",
   "metadata": {},
   "outputs": [
    {
     "data": {
      "text/html": [
       "<div>\n",
       "<style scoped>\n",
       "    .dataframe tbody tr th:only-of-type {\n",
       "        vertical-align: middle;\n",
       "    }\n",
       "\n",
       "    .dataframe tbody tr th {\n",
       "        vertical-align: top;\n",
       "    }\n",
       "\n",
       "    .dataframe thead th {\n",
       "        text-align: right;\n",
       "    }\n",
       "</style>\n",
       "<table border=\"1\" class=\"dataframe\">\n",
       "  <thead>\n",
       "    <tr style=\"text-align: right;\">\n",
       "      <th></th>\n",
       "      <th>subject</th>\n",
       "      <th>name</th>\n",
       "      <th>uid</th>\n",
       "      <th>description</th>\n",
       "    </tr>\n",
       "  </thead>\n",
       "  <tbody>\n",
       "    <tr>\n",
       "      <th>0</th>\n",
       "      <td>https://identifier.buildingsmart.org/uri/FTIA/...</td>\n",
       "      <td>Location track</td>\n",
       "      <td>LocationTrack</td>\n",
       "      <td>Location track number or name as an abbreviation</td>\n",
       "    </tr>\n",
       "    <tr>\n",
       "      <th>1</th>\n",
       "      <td>https://identifier.buildingsmart.org/uri/FTIA/...</td>\n",
       "      <td>Additional details</td>\n",
       "      <td>AdditionalDetails</td>\n",
       "      <td>E.g. additional information related to install...</td>\n",
       "    </tr>\n",
       "    <tr>\n",
       "      <th>2</th>\n",
       "      <td>https://identifier.buildingsmart.org/uri/FTIA/...</td>\n",
       "      <td>Post height</td>\n",
       "      <td>PostHeight</td>\n",
       "      <td>Height of the post in millimeters if sign has ...</td>\n",
       "    </tr>\n",
       "    <tr>\n",
       "      <th>3</th>\n",
       "      <td>https://identifier.buildingsmart.org/uri/FTIA/...</td>\n",
       "      <td>Installation direction</td>\n",
       "      <td>InstallationDirection</td>\n",
       "      <td>Installation direction of the sign</td>\n",
       "    </tr>\n",
       "    <tr>\n",
       "      <th>4</th>\n",
       "      <td>https://identifier.buildingsmart.org/uri/FTIA/...</td>\n",
       "      <td>Route number</td>\n",
       "      <td>RouteNumber</td>\n",
       "      <td>The route number on which the object is located</td>\n",
       "    </tr>\n",
       "    <tr>\n",
       "      <th>...</th>\n",
       "      <td>...</td>\n",
       "      <td>...</td>\n",
       "      <td>...</td>\n",
       "      <td>...</td>\n",
       "    </tr>\n",
       "    <tr>\n",
       "      <th>28163</th>\n",
       "      <td>https://identifier.buildingsmart.org/uri/NVDB/...</td>\n",
       "      <td>Etableringsår_4066</td>\n",
       "      <td>Etableringsår_4066</td>\n",
       "      <td>Angir hvilket år vegobjektet ble etablert på s...</td>\n",
       "    </tr>\n",
       "    <tr>\n",
       "      <th>28164</th>\n",
       "      <td>https://identifier.buildingsmart.org/uri/NVDB/...</td>\n",
       "      <td>Produksjonsår_8814</td>\n",
       "      <td>Produksjonsår_8814</td>\n",
       "      <td>Angir hvilket år utstyret ble produsert.</td>\n",
       "    </tr>\n",
       "    <tr>\n",
       "      <th>28165</th>\n",
       "      <td>https://identifier.buildingsmart.org/uri/NVDB/...</td>\n",
       "      <td>Energikilde_3750</td>\n",
       "      <td>Energikilde_3750</td>\n",
       "      <td>Angir hvilken type energikilde som benyttes.</td>\n",
       "    </tr>\n",
       "    <tr>\n",
       "      <th>28166</th>\n",
       "      <td>https://identifier.buildingsmart.org/uri/NVDB/...</td>\n",
       "      <td>Bruksområde_11003</td>\n",
       "      <td>Bruksområde_11003</td>\n",
       "      <td>Angir hovedbruksområde for styreapparat.</td>\n",
       "    </tr>\n",
       "    <tr>\n",
       "      <th>28167</th>\n",
       "      <td>https://identifier.buildingsmart.org/uri/NVDB/...</td>\n",
       "      <td>Type_8812</td>\n",
       "      <td>Type_8812</td>\n",
       "      <td>Angir type styreapparat.</td>\n",
       "    </tr>\n",
       "  </tbody>\n",
       "</table>\n",
       "<p>28168 rows × 4 columns</p>\n",
       "</div>"
      ],
      "text/plain": [
       "                                                 subject  \\\n",
       "0      https://identifier.buildingsmart.org/uri/FTIA/...   \n",
       "1      https://identifier.buildingsmart.org/uri/FTIA/...   \n",
       "2      https://identifier.buildingsmart.org/uri/FTIA/...   \n",
       "3      https://identifier.buildingsmart.org/uri/FTIA/...   \n",
       "4      https://identifier.buildingsmart.org/uri/FTIA/...   \n",
       "...                                                  ...   \n",
       "28163  https://identifier.buildingsmart.org/uri/NVDB/...   \n",
       "28164  https://identifier.buildingsmart.org/uri/NVDB/...   \n",
       "28165  https://identifier.buildingsmart.org/uri/NVDB/...   \n",
       "28166  https://identifier.buildingsmart.org/uri/NVDB/...   \n",
       "28167  https://identifier.buildingsmart.org/uri/NVDB/...   \n",
       "\n",
       "                         name                    uid  \\\n",
       "0              Location track          LocationTrack   \n",
       "1          Additional details      AdditionalDetails   \n",
       "2                 Post height             PostHeight   \n",
       "3      Installation direction  InstallationDirection   \n",
       "4                Route number            RouteNumber   \n",
       "...                       ...                    ...   \n",
       "28163      Etableringsår_4066     Etableringsår_4066   \n",
       "28164      Produksjonsår_8814     Produksjonsår_8814   \n",
       "28165        Energikilde_3750       Energikilde_3750   \n",
       "28166       Bruksområde_11003      Bruksområde_11003   \n",
       "28167               Type_8812              Type_8812   \n",
       "\n",
       "                                             description  \n",
       "0      Location track number or name as an abbreviation   \n",
       "1      E.g. additional information related to install...  \n",
       "2      Height of the post in millimeters if sign has ...  \n",
       "3                     Installation direction of the sign  \n",
       "4        The route number on which the object is located  \n",
       "...                                                  ...  \n",
       "28163  Angir hvilket år vegobjektet ble etablert på s...  \n",
       "28164           Angir hvilket år utstyret ble produsert.  \n",
       "28165       Angir hvilken type energikilde som benyttes.  \n",
       "28166           Angir hovedbruksområde for styreapparat.  \n",
       "28167                           Angir type styreapparat.  \n",
       "\n",
       "[28168 rows x 4 columns]"
      ]
     },
     "execution_count": 5,
     "metadata": {},
     "output_type": "execute_result"
    }
   ],
   "source": [
    "# Get some insight in what our csv file contains\n",
    "bsdd_df"
   ]
  },
  {
   "cell_type": "code",
   "execution_count": 26,
   "id": "1c3944a9",
   "metadata": {},
   "outputs": [
    {
     "data": {
      "text/plain": [
       "'39,360,628'"
      ]
     },
     "execution_count": 26,
     "metadata": {},
     "output_type": "execute_result"
    }
   ],
   "source": [
    "max_num_combinations = sum(1 for unique_name in combinations(list(set(bsdd_df.name + bsdd_df.description)), 2))\n",
    "'{0:,}'.format(max_num_combinations)"
   ]
  },
  {
   "cell_type": "markdown",
   "id": "0e835450",
   "metadata": {},
   "source": [
    "* columns: subject (url), name (term), uid, description\n",
    "* 28K rows, so at most 28K terms that we want to compare against each other\n",
    "  * max ±31 million similarity computations between the unique node label+description, could consider additional filtering based on namespace language etc"
   ]
  },
  {
   "cell_type": "code",
   "execution_count": 37,
   "id": "143d64c9",
   "metadata": {},
   "outputs": [
    {
     "name": "stdout",
     "output_type": "stream",
     "text": [
      "8549\n"
     ]
    },
    {
     "data": {
      "text/plain": [
       "['Style Description of the furniture style.',\n",
       " 'Sist. estraz.fumi/ventilazione (I)',\n",
       " 'Side weld name Ident of the side weld',\n",
       " 'FlangeTopFillet Flange top fillet of the profile.',\n",
       " 'GS-Zeichen Mit dem Siegel Geprüfte Sicherheit (GS-Zeichen) wird einem verwendungsfertigen Produkt bescheinigt, dass es den Anforderungen des § 21 des Produktsicherheitsgesetzes (ProdSG) entspricht.',\n",
       " '_ArtBauholz Aufzaehlung lt. ASB-ING_neu',\n",
       " 'NpshDatumPlane Horizontal plane through the center of the circle described by the external points of the entrance edges of the impeller blades, in the first stage in the case of multi-stage pumps',\n",
       " 'Girder Station at start of span Girder Station at start of span',\n",
       " 'CommunicationStandard Indicates the communication standard supported by the physical wired communication port.',\n",
       " 'n. campate metalliche Campo calcolato: CONTA n. CAMPATE delle Sedi Tecniche sottostanti con Stato Sistema CREA,  e Stato Utente FATT, ESER, FUES e CONC e valore della caratteristica Materiale costitutivo = AZ, AV, AN, AR, AS, AP, AQ, AG, AB, AT, AC, AD, AK.']"
      ]
     },
     "execution_count": 37,
     "metadata": {},
     "output_type": "execute_result"
    }
   ],
   "source": [
    "unique_combinations = list(set([n.strip() + ' ' + d.strip() for n, d in zip(bsdd_df.name, bsdd_df.description) if (n and d) and (type(n) == str and type(d) == str)]))\n",
    "to_be_predicted = [name_and_definition for name_and_definition in unique_combinations]\n",
    "# show some examples\n",
    "print(f\"Number of unique inputs we'll consider: {len(to_be_predicted)}\")\n",
    "to_be_predicted[:10]"
   ]
  },
  {
   "cell_type": "markdown",
   "id": "29d2d786",
   "metadata": {},
   "source": [
    "### Semantic similarity (distributed)\n",
    "* Rather than only looking at the node's label, we are going to compare both the label and the description (sometimes definition)\n",
    "* We'll use the pretrained `sentence-transformers/all-mpnet-base-v2` model"
   ]
  },
  {
   "cell_type": "code",
   "execution_count": 41,
   "id": "75dbf250",
   "metadata": {},
   "outputs": [],
   "source": [
    "batch_size = 32\n",
    "show_progress_bar = True\n",
    "model = SentenceTransformer('sentence-transformers/all-mpnet-base-v2')\n",
    "embeddings_file_name = Path(\"data\", \"embeddings.pkl\")"
   ]
  },
  {
   "cell_type": "code",
   "execution_count": 44,
   "id": "56e8ceac",
   "metadata": {},
   "outputs": [],
   "source": [
    "if not embeddings_file_name.exists(): \n",
    "    # compute the embeddings for all the input strings (name + description)\n",
    "    embeddings = model.encode(to_be_predicted, \n",
    "                              show_progress_bar=show_progress_bar, \n",
    "                              batch_size=batch_size, \n",
    "                              convert_to_tensor=True)\n",
    "    pickle.dump(embeddings, open(embeddings_file_name, 'wb'))\n",
    "else:\n",
    "    embeddiings = pickle.load(open(embeddings_file_name, 'rb'))"
   ]
  },
  {
   "cell_type": "code",
   "execution_count": 81,
   "id": "24243856",
   "metadata": {},
   "outputs": [
    {
     "name": "stderr",
     "output_type": "stream",
     "text": [
      "100%|██████████████████████████████████████████████████████████████████████████████████████████████████████████████████████████████████████████████████████████████████| 8549/8549 [00:56<00:00, 151.16it/s]\n"
     ]
    }
   ],
   "source": [
    "similar_nodes = []\n",
    "i = 0\n",
    "for idx, embedding in tqdm(enumerate(embeddings), total=len(to_be_predicted)):\n",
    "    # compute cosine similarity to all other embeddings\n",
    "    cos_score = pytorch_cos_sim(embedding, embeddings)\n",
    "    # consider the top 5 most similar terms, also grab their indices\n",
    "    cos_value, cos_index = torch.topk(cos_score, 5, 1)\n",
    "    indices_list = cos_index.flatten().tolist()\n",
    "    value_list = cos_value.flatten().tolist()\n",
    "    indices_list = [i for i in indices_list if to_be_predicted[i] != to_be_predicted[idx]] # avoid self-comparison\n",
    "    \n",
    "    # HEURISTIC: We check the difference between the semantic similar of the most similar, \n",
    "    # and the least similar in our top k terms. If this difference is small, then we assume\n",
    "    # that the representations for these terms+definitions were relatively weak.\n",
    "    diff = value_list[0] - value_list[-1]\n",
    "    \n",
    "    if diff > 0.06:\n",
    "        # we only consider the most similar node for now\n",
    "        most_similar_node_idx = indices_list[0]\n",
    "        triple = [to_be_predicted[idx], 'ex:semsim', to_be_predicted[most_similar_node_idx]]\n",
    "        similar_nodes.append(triple)"
   ]
  },
  {
   "cell_type": "code",
   "execution_count": 82,
   "id": "b5fcb932",
   "metadata": {},
   "outputs": [
    {
     "data": {
      "text/plain": [
       "[['Castellation depth Castellation depth',\n",
       "  'ex:semsim',\n",
       "  'Castellation height Castellation height'],\n",
       " ['Volume The volume of an apple',\n",
       "  'ex:semsim',\n",
       "  'Height The height of an apple'],\n",
       " ['SoundEnergyLevel Ten times the logarithm to the base 1 of the ratio of the sound energy, J, to a reference value, J, expressed in decibels.',\n",
       "  'ex:semsim',\n",
       "  'SoundEnergyLevel Determined ten times the logarithm to the base 10 of the ratio of the sound energy, J, to a reference value, J0, expressed in decibels'],\n",
       " ['_BestandsplanVorhandenHyperlink Datentyp = URL',\n",
       "  'ex:semsim',\n",
       "  '_Hyperlink_005 Datentyp = URL'],\n",
       " ['Verbrauch Materialverbrauch in [kg/m� und mm Schichtdicke]',\n",
       "  'ex:semsim',\n",
       "  'Verbrauch (x mm Zahnung) Materialverbrauch mit einer verwendeten xmm Zahnung in [kg]'],\n",
       " ['GS-Zeichen Mit dem Siegel Geprüfte Sicherheit (GS-Zeichen) wird einem verwendungsfertigen Produkt bescheinigt, dass es den Anforderungen des § 21 des Produktsicherheitsgesetzes (ProdSG) entspricht.',\n",
       "  'ex:semsim',\n",
       "  'LGA-Siegel Die LGA ist eine Zertifizierungsstelle, die 2007 von der TUEV Rheinland erworben wurde. Das LGA-Prüfzeichen.'],\n",
       " ['EU-Umweltzeichen \"Euroblume\" EU-Umweltzeichen \"Euroblume\"',\n",
       "  'ex:semsim',\n",
       "  'EU-Energieetikett (Euro-Label) EU-Energieetikett (Euro-Label)'],\n",
       " ['AirHandlerFanCoilArrangement Enumeration defining the arrangement of the supply air fan and the cooling coil.',\n",
       "  'ex:semsim',\n",
       "  'AirHandlerConstruction Enumeration defining how the air handler might be fabricated.'],\n",
       " ['ProprietB_Esempio List New classification property description 3',\n",
       "  'ex:semsim',\n",
       "  'ProprietB New classification property description 2'],\n",
       " ['Bau Bau', 'ex:semsim', 'Baumwollzeichen Baumwollzeichen']]"
      ]
     },
     "execution_count": 82,
     "metadata": {},
     "output_type": "execute_result"
    }
   ],
   "source": [
    "len(similar_nodes)\n",
    "random.sample(similar_nodes, 10)"
   ]
  },
  {
   "cell_type": "markdown",
   "id": "b9b87bd2",
   "metadata": {},
   "source": [
    "TODO: grab the node's UID to suggest triples to similar terms"
   ]
  },
  {
   "cell_type": "markdown",
   "id": "cde34625",
   "metadata": {},
   "source": [
    "### Alternative, grab specific/subset of terms from bSDD"
   ]
  },
  {
   "cell_type": "code",
   "execution_count": 68,
   "id": "6e516bef",
   "metadata": {},
   "outputs": [],
   "source": [
    "# Example GraphQL query for 20 terms within the namespace of CCI\n",
    "query = \"\"\"query MyQuery {\n",
    "  classification(\n",
    "    limit: \"20\"\n",
    "    where: {domain: {name: {EQ: \"CCI Construction\"}}}\n",
    "  ) {\n",
    "    id\n",
    "    name\n",
    "    definition\n",
    "  }\n",
    "}\"\"\""
   ]
  },
  {
   "cell_type": "code",
   "execution_count": 69,
   "id": "d3abcc68",
   "metadata": {},
   "outputs": [
    {
     "name": "stdout",
     "output_type": "stream",
     "text": [
      "200\n"
     ]
    }
   ],
   "source": [
    "url = 'https://bsdd.ontotext.com/graphql/'\n",
    "response = requests.post(url, json={'query': query})\n",
    "print(response.status_code)"
   ]
  },
  {
   "cell_type": "code",
   "execution_count": 70,
   "id": "29bd80fd",
   "metadata": {
    "scrolled": true
   },
   "outputs": [],
   "source": [
    "results = response.json()"
   ]
  },
  {
   "cell_type": "code",
   "execution_count": 74,
   "id": "e1454513",
   "metadata": {},
   "outputs": [],
   "source": [
    "bsdd_df_test = pd.DataFrame.from_dict(results['data']['classification'])"
   ]
  },
  {
   "cell_type": "code",
   "execution_count": 75,
   "id": "5d9e2818",
   "metadata": {},
   "outputs": [
    {
     "data": {
      "text/html": [
       "<div>\n",
       "<style scoped>\n",
       "    .dataframe tbody tr th:only-of-type {\n",
       "        vertical-align: middle;\n",
       "    }\n",
       "\n",
       "    .dataframe tbody tr th {\n",
       "        vertical-align: top;\n",
       "    }\n",
       "\n",
       "    .dataframe thead th {\n",
       "        text-align: right;\n",
       "    }\n",
       "</style>\n",
       "<table border=\"1\" class=\"dataframe\">\n",
       "  <thead>\n",
       "    <tr style=\"text-align: right;\">\n",
       "      <th></th>\n",
       "      <th>subject</th>\n",
       "      <th>name</th>\n",
       "      <th>description</th>\n",
       "    </tr>\n",
       "  </thead>\n",
       "  <tbody>\n",
       "    <tr>\n",
       "      <th>0</th>\n",
       "      <td>https://identifier.buildingsmart.org/uri/molio...</td>\n",
       "      <td>Seat</td>\n",
       "      <td>open stationary storing object for persons</td>\n",
       "    </tr>\n",
       "    <tr>\n",
       "      <th>1</th>\n",
       "      <td>https://identifier.buildingsmart.org/uri/molio...</td>\n",
       "      <td>Power filter</td>\n",
       "      <td>electricity stabilising object suppressing a d...</td>\n",
       "    </tr>\n",
       "    <tr>\n",
       "      <th>2</th>\n",
       "      <td>https://identifier.buildingsmart.org/uri/molio...</td>\n",
       "      <td>Low voltage electric energy guiding object</td>\n",
       "      <td>guiding object of low voltage electric energy</td>\n",
       "    </tr>\n",
       "    <tr>\n",
       "      <th>3</th>\n",
       "      <td>https://identifier.buildingsmart.org/uri/molio...</td>\n",
       "      <td>Shutter</td>\n",
       "      <td>local climate stabilising object by restrictin...</td>\n",
       "    </tr>\n",
       "    <tr>\n",
       "      <th>4</th>\n",
       "      <td>https://identifier.buildingsmart.org/uri/molio...</td>\n",
       "      <td>Laundry</td>\n",
       "      <td>workspace for laundering clothes and linen</td>\n",
       "    </tr>\n",
       "    <tr>\n",
       "      <th>5</th>\n",
       "      <td>https://identifier.buildingsmart.org/uri/molio...</td>\n",
       "      <td>Stove</td>\n",
       "      <td>combustion heating object for heating of space</td>\n",
       "    </tr>\n",
       "    <tr>\n",
       "      <th>6</th>\n",
       "      <td>https://identifier.buildingsmart.org/uri/molio...</td>\n",
       "      <td>Joystick</td>\n",
       "      <td>movement interaction device by restricted posi...</td>\n",
       "    </tr>\n",
       "    <tr>\n",
       "      <th>7</th>\n",
       "      <td>https://identifier.buildingsmart.org/uri/molio...</td>\n",
       "      <td>Materials laboratory</td>\n",
       "      <td>laboratory for studying materials</td>\n",
       "    </tr>\n",
       "    <tr>\n",
       "      <th>8</th>\n",
       "      <td>https://identifier.buildingsmart.org/uri/molio...</td>\n",
       "      <td>Soild material flow space</td>\n",
       "      <td>matter flow space for soild materials</td>\n",
       "    </tr>\n",
       "    <tr>\n",
       "      <th>9</th>\n",
       "      <td>https://identifier.buildingsmart.org/uri/molio...</td>\n",
       "      <td>Gate leaf</td>\n",
       "      <td>closure object in a gate</td>\n",
       "    </tr>\n",
       "    <tr>\n",
       "      <th>10</th>\n",
       "      <td>https://identifier.buildingsmart.org/uri/molio...</td>\n",
       "      <td>Administration building</td>\n",
       "      <td>building for human needs and human acitivity d...</td>\n",
       "    </tr>\n",
       "    <tr>\n",
       "      <th>11</th>\n",
       "      <td>https://identifier.buildingsmart.org/uri/molio...</td>\n",
       "      <td>Peltier element</td>\n",
       "      <td>thermal energy transfer object utilizing Pelti...</td>\n",
       "    </tr>\n",
       "    <tr>\n",
       "      <th>12</th>\n",
       "      <td>https://identifier.buildingsmart.org/uri/molio...</td>\n",
       "      <td>Electric field detector</td>\n",
       "      <td>field sensing object for electric field, with ...</td>\n",
       "    </tr>\n",
       "    <tr>\n",
       "      <th>13</th>\n",
       "      <td>https://identifier.buildingsmart.org/uri/molio...</td>\n",
       "      <td>Electric signal connecting object</td>\n",
       "      <td>interfacing object for electric signals</td>\n",
       "    </tr>\n",
       "    <tr>\n",
       "      <th>14</th>\n",
       "      <td>https://identifier.buildingsmart.org/uri/molio...</td>\n",
       "      <td>Passageway</td>\n",
       "      <td>access building designed to create horizontal ...</td>\n",
       "    </tr>\n",
       "    <tr>\n",
       "      <th>15</th>\n",
       "      <td>https://identifier.buildingsmart.org/uri/molio...</td>\n",
       "      <td>Filled material</td>\n",
       "      <td>existing ground of filled material</td>\n",
       "    </tr>\n",
       "    <tr>\n",
       "      <th>16</th>\n",
       "      <td>https://identifier.buildingsmart.org/uri/molio...</td>\n",
       "      <td>Electric battery</td>\n",
       "      <td>Chemical to electrical energy generating objec...</td>\n",
       "    </tr>\n",
       "    <tr>\n",
       "      <th>17</th>\n",
       "      <td>https://identifier.buildingsmart.org/uri/molio...</td>\n",
       "      <td>Differential pressure transmitter</td>\n",
       "      <td>pressure sensing object utilizing two ports fo...</td>\n",
       "    </tr>\n",
       "    <tr>\n",
       "      <th>18</th>\n",
       "      <td>https://identifier.buildingsmart.org/uri/molio...</td>\n",
       "      <td>Chimney system</td>\n",
       "      <td>disposal systems designed to remove air, steam...</td>\n",
       "    </tr>\n",
       "    <tr>\n",
       "      <th>19</th>\n",
       "      <td>https://identifier.buildingsmart.org/uri/molio...</td>\n",
       "      <td>Stiffener</td>\n",
       "      <td>reinforcing object by stiffener</td>\n",
       "    </tr>\n",
       "  </tbody>\n",
       "</table>\n",
       "</div>"
      ],
      "text/plain": [
       "                                              subject  \\\n",
       "0   https://identifier.buildingsmart.org/uri/molio...   \n",
       "1   https://identifier.buildingsmart.org/uri/molio...   \n",
       "2   https://identifier.buildingsmart.org/uri/molio...   \n",
       "3   https://identifier.buildingsmart.org/uri/molio...   \n",
       "4   https://identifier.buildingsmart.org/uri/molio...   \n",
       "5   https://identifier.buildingsmart.org/uri/molio...   \n",
       "6   https://identifier.buildingsmart.org/uri/molio...   \n",
       "7   https://identifier.buildingsmart.org/uri/molio...   \n",
       "8   https://identifier.buildingsmart.org/uri/molio...   \n",
       "9   https://identifier.buildingsmart.org/uri/molio...   \n",
       "10  https://identifier.buildingsmart.org/uri/molio...   \n",
       "11  https://identifier.buildingsmart.org/uri/molio...   \n",
       "12  https://identifier.buildingsmart.org/uri/molio...   \n",
       "13  https://identifier.buildingsmart.org/uri/molio...   \n",
       "14  https://identifier.buildingsmart.org/uri/molio...   \n",
       "15  https://identifier.buildingsmart.org/uri/molio...   \n",
       "16  https://identifier.buildingsmart.org/uri/molio...   \n",
       "17  https://identifier.buildingsmart.org/uri/molio...   \n",
       "18  https://identifier.buildingsmart.org/uri/molio...   \n",
       "19  https://identifier.buildingsmart.org/uri/molio...   \n",
       "\n",
       "                                          name  \\\n",
       "0                                         Seat   \n",
       "1                                 Power filter   \n",
       "2   Low voltage electric energy guiding object   \n",
       "3                                      Shutter   \n",
       "4                                      Laundry   \n",
       "5                                        Stove   \n",
       "6                                     Joystick   \n",
       "7                         Materials laboratory   \n",
       "8                    Soild material flow space   \n",
       "9                                    Gate leaf   \n",
       "10                     Administration building   \n",
       "11                             Peltier element   \n",
       "12                     Electric field detector   \n",
       "13           Electric signal connecting object   \n",
       "14                                  Passageway   \n",
       "15                             Filled material   \n",
       "16                            Electric battery   \n",
       "17           Differential pressure transmitter   \n",
       "18                              Chimney system   \n",
       "19                                   Stiffener   \n",
       "\n",
       "                                          description  \n",
       "0          open stationary storing object for persons  \n",
       "1   electricity stabilising object suppressing a d...  \n",
       "2       guiding object of low voltage electric energy  \n",
       "3   local climate stabilising object by restrictin...  \n",
       "4          workspace for laundering clothes and linen  \n",
       "5      combustion heating object for heating of space  \n",
       "6   movement interaction device by restricted posi...  \n",
       "7                   laboratory for studying materials  \n",
       "8               matter flow space for soild materials  \n",
       "9                            closure object in a gate  \n",
       "10  building for human needs and human acitivity d...  \n",
       "11  thermal energy transfer object utilizing Pelti...  \n",
       "12  field sensing object for electric field, with ...  \n",
       "13            interfacing object for electric signals  \n",
       "14  access building designed to create horizontal ...  \n",
       "15                 existing ground of filled material  \n",
       "16  Chemical to electrical energy generating objec...  \n",
       "17  pressure sensing object utilizing two ports fo...  \n",
       "18  disposal systems designed to remove air, steam...  \n",
       "19                    reinforcing object by stiffener  "
      ]
     },
     "execution_count": 75,
     "metadata": {},
     "output_type": "execute_result"
    }
   ],
   "source": [
    "# note that the current graph ql query grabs some different information than we have in the csv\n",
    "bsdd_df_test.columns = ['subject', 'name', 'description'] # rename columns to align with csv naming\n",
    "bsdd_df_test"
   ]
  },
  {
   "cell_type": "code",
   "execution_count": null,
   "id": "42387824",
   "metadata": {},
   "outputs": [],
   "source": []
  }
 ],
 "metadata": {
  "kernelspec": {
   "display_name": "Python 3 (ipykernel)",
   "language": "python",
   "name": "python3"
  },
  "language_info": {
   "codemirror_mode": {
    "name": "ipython",
    "version": 3
   },
   "file_extension": ".py",
   "mimetype": "text/x-python",
   "name": "python",
   "nbconvert_exporter": "python",
   "pygments_lexer": "ipython3",
   "version": "3.9.16"
  }
 },
 "nbformat": 4,
 "nbformat_minor": 5
}
